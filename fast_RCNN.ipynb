{
  "nbformat": 4,
  "nbformat_minor": 0,
  "metadata": {
    "colab": {
      "name": "fast RCNN.ipynb",
      "private_outputs": true,
      "provenance": [],
      "mount_file_id": "1tnPbgA0ISxKUY_kV-Z3u3AWOSoAIGaJZ",
      "authorship_tag": "ABX9TyOLn+jOcld169fQ481d8ovz",
      "include_colab_link": true
    },
    "kernelspec": {
      "name": "python3",
      "display_name": "Python 3"
    },
    "language_info": {
      "name": "python"
    }
  },
  "cells": [
    {
      "cell_type": "markdown",
      "metadata": {
        "id": "view-in-github",
        "colab_type": "text"
      },
      "source": [
        "<a href=\"https://colab.research.google.com/github/silcheon/UROP_project/blob/master/fast_RCNN.ipynb\" target=\"_parent\"><img src=\"https://colab.research.google.com/assets/colab-badge.svg\" alt=\"Open In Colab\"/></a>"
      ]
    },
    {
      "cell_type": "code",
      "metadata": {
        "id": "ltCbbuQhdWu7"
      },
      "source": [
        "import tensorflow as tf\n",
        "import tensorflow_hub as hub\n",
        "\n",
        "import matplotlib.pyplot as plt\n",
        "import tempfile\n",
        "from six.moves.urllib.request import urlopen\n",
        "from six import BytesIO\n",
        "\n",
        "import numpy as np\n",
        "from PIL import Image\n",
        "from PIL import ImageColor\n",
        "from PIL import ImageDraw\n",
        "from PIL import ImageFont\n",
        "from PIL import ImageOps\n",
        "\n",
        "import time\n",
        "import os"
      ],
      "execution_count": null,
      "outputs": []
    },
    {
      "cell_type": "code",
      "metadata": {
        "id": "GXpKW0Delly9"
      },
      "source": [
        "def display_image(image):\n",
        "\n",
        "  fig = plt.figure(figsize=(10, 8))\n",
        "\n",
        "  plt.grid(False)\n",
        "\n",
        "  plt.axis('off')\n",
        "\n",
        "  plt.imshow(image)"
      ],
      "execution_count": null,
      "outputs": []
    },
    {
      "cell_type": "code",
      "metadata": {
        "id": "6bDEsrRqlqc1"
      },
      "source": [
        "def draw_bounding_box_on_image(image, ymin, xmin, ymax,\n",
        "\n",
        "                               xmax, color, font, thickness=4,\n",
        "\n",
        "                               display_str_list=()):\n",
        "\n",
        "  # 이미지에 경계상자 그리기\n",
        "\n",
        "  draw = ImageDraw.Draw(image)\n",
        "\n",
        "  im_width, im_height = image.size #이미지 원사이즈\n",
        "\n",
        "  (left, right, top, bottom) = (xmin * im_width, xmax * im_width,\n",
        "\n",
        "                                ymin * im_height, ymax * im_height)\n",
        "\n",
        "  draw.line([(left, top), (left, bottom), (right, bottom), (right, top),\n",
        "\n",
        "             (left, top)],width=thickness, fill=color)\n",
        "\n",
        "\n",
        "\n",
        "  # 이미지 상단에 글자넣기\n",
        "\n",
        "  # 만약 박스이미지가 이미지를 초과하면 하단에 글씨를 넣는다\n",
        "\n",
        "  display_str_heights = [font.getsize(ds)[1] for ds in display_str_list]\n",
        "\n",
        "\n",
        "\n",
        "  # 각각의 디스플레이마다 상단과 하단의 여백을 0.05로 설정한다.\n",
        "\n",
        "  total_display_str_height = (1 + 2 * 0.05) * sum(display_str_heights)\n",
        "\n",
        "\n",
        "\n",
        "  if top > total_display_str_height:\n",
        "\n",
        "    text_bottom = top\n",
        "\n",
        "  else:\n",
        "\n",
        "    text_bottom = bottom + total_display_str_height\n",
        "\n",
        "\n",
        "\n",
        "  for display_str in display_str_list[::-1]:\n",
        "\n",
        "    text_width, text_height = font.getsize(display_str)\n",
        "\n",
        "    margin = np.ceil(0.05 * text_height)\n",
        "\n",
        "    draw.rectangle([(left, text_bottom - text_height - 2 * margin),\n",
        "\n",
        "                    (left + text_width, text_bottom)],\n",
        "\n",
        "                   fill=color)\n",
        "\n",
        "    draw.text((left + margin, text_bottom - text_height - margin),\n",
        "\n",
        "              display_str,fill=\"black\",font=font)\n",
        "\n",
        "    text_bottom -= text_height - 2 * margin"
      ],
      "execution_count": null,
      "outputs": []
    },
    {
      "cell_type": "code",
      "metadata": {
        "id": "Aqw5eg1Qlxjl"
      },
      "source": [
        "#박스 그리기\n",
        "\n",
        "def draw_boxes(image, boxes, class_names, scores, max_boxes=10, min_score=0.1):\n",
        "\n",
        "  colors = list(ImageColor.colormap.values())\n",
        "\n",
        "\n",
        "\n",
        "  # 폰트 지정\n",
        "\n",
        "  try:\n",
        "\n",
        "    font = ImageFont.truetype(\"/usr/share/fonts/truetype/liberation/LiberationSansNarrow-Regular.ttf\",25)\n",
        "\n",
        "  except IOError:\n",
        "\n",
        "    print(\"Font not found, using default font.\")\n",
        "\n",
        "    font = ImageFont.load_default()\n",
        "\n",
        "\n",
        "\n",
        "  for i in range(min(boxes.shape[0], max_boxes)):\n",
        "\n",
        "    if scores[i] >= min_score: #최소의 값 이상인 값 찾기\n",
        "\n",
        "      ymin, xmin, ymax, xmax = tuple(boxes[i]) #박스 좌표값 \n",
        "\n",
        "      display_str = \"{}: {}%\".format(class_names[i].decode(\"ascii\"),\n",
        "\n",
        "                                     int(100 * scores[i]))\n",
        "\n",
        "      color = colors[hash(class_names[i]) % len(colors)]\n",
        "\n",
        "      image_pil = Image.fromarray(np.uint8(image)).convert(\"RGB\")\n",
        "\n",
        "      draw_bounding_box_on_image(\n",
        "\n",
        "          image_pil,ymin,xmin,\n",
        "\n",
        "          ymax,xmax,color,\n",
        "\n",
        "          font,display_str_list=[display_str])\n",
        "\n",
        "      np.copyto(image, np.array(image_pil))\n",
        "\n",
        "  return image"
      ],
      "execution_count": null,
      "outputs": []
    },
    {
      "cell_type": "code",
      "metadata": {
        "id": "HAwp-sI-lyYi"
      },
      "source": [
        "module_handle = \"https://tfhub.dev/google/faster_rcnn/openimages_v4/inception_resnet_v2/1\" \n",
        "\n",
        "detector = hub.load(module_handle).signatures['default']"
      ],
      "execution_count": null,
      "outputs": []
    },
    {
      "cell_type": "code",
      "metadata": {
        "id": "mSa6y1znl1R6"
      },
      "source": [
        "def load_img(path):\n",
        "\n",
        "  img = tf.io.read_file(path)\n",
        "\n",
        "  img = tf.image.decode_jpeg(img, channels=3)\n",
        "\n",
        "  return img"
      ],
      "execution_count": null,
      "outputs": []
    },
    {
      "cell_type": "code",
      "metadata": {
        "id": "UMv7Exxbl17h"
      },
      "source": [
        "def run_detector(detector, path):\n",
        "\n",
        "  img = load_img(path)\n",
        "\n",
        "\n",
        "\n",
        "  converted_img  = tf.image.convert_image_dtype(img, tf.float32)[tf.newaxis, ...]\n",
        "\n",
        "  start_time = time.time()\n",
        "\n",
        "  result = detector(converted_img)\n",
        "\n",
        "  end_time = time.time()\n",
        "\n",
        "\n",
        "\n",
        "  result = {key:value.numpy() for key,value in result.items()}\n",
        "\n",
        "  print(\"이미지에서 찾은 %d개의 객체.\" % len(result[\"detection_scores\"]))\n",
        "\n",
        "  print(\"추론한 시간: \", end_time-start_time)\n",
        "\n",
        "\n",
        "\n",
        "  image_with_boxes = draw_boxes(\n",
        "\n",
        "      img.numpy(), result[\"detection_boxes\"],\n",
        "\n",
        "      result[\"detection_class_entities\"], result[\"detection_scores\"])\n",
        "\n",
        "\n",
        "\n",
        "  display_image(image_with_boxes)"
      ],
      "execution_count": null,
      "outputs": []
    },
    {
      "cell_type": "code",
      "metadata": {
        "id": "Iyb6OS1lnHcj"
      },
      "source": [
        "path = '/content/drive/MyDrive/2021-1/차량지능/cat.jpeg'\n",
        "\n",
        "run_detector(detector, path)"
      ],
      "execution_count": null,
      "outputs": []
    }
  ]
}