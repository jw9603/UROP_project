{
  "nbformat": 4,
  "nbformat_minor": 0,
  "metadata": {
    "colab": {
      "name": "squat.ipynb",
      "private_outputs": true,
      "provenance": [],
      "collapsed_sections": [],
      "include_colab_link": true
    },
    "kernelspec": {
      "name": "python3",
      "display_name": "Python 3"
    }
  },
  "cells": [
    {
      "cell_type": "markdown",
      "metadata": {
        "id": "view-in-github",
        "colab_type": "text"
      },
      "source": [
        "<a href=\"https://colab.research.google.com/github/silcheon/UROP_project/blob/master/squat.ipynb\" target=\"_parent\"><img src=\"https://colab.research.google.com/assets/colab-badge.svg\" alt=\"Open In Colab\"/></a>"
      ]
    },
    {
      "cell_type": "code",
      "metadata": {
        "id": "EcBlWEipOZBK"
      },
      "source": [
        "from google.colab import drive\r\n",
        "drive.mount(\"/content/drive\")"
      ],
      "execution_count": null,
      "outputs": []
    },
    {
      "cell_type": "code",
      "metadata": {
        "id": "QS_dnNzcOq3G"
      },
      "source": [
        "#!ls\n",
        "#%cd /content/drive\n",
        "#%cd MyDrive\n",
        "!ls\n",
        "#%cd drive/MyDrive/UROP2/UROP_project"
      ],
      "execution_count": null,
      "outputs": []
    },
    {
      "cell_type": "code",
      "metadata": {
        "id": "FrLtQWe-OyV4"
      },
      "source": [
        "!git clone https://github.com/silcheon/UROP_project.git"
      ],
      "execution_count": null,
      "outputs": []
    },
    {
      "cell_type": "markdown",
      "metadata": {
        "id": "75JtpyW8SDsq"
      },
      "source": [
        ""
      ]
    },
    {
      "cell_type": "code",
      "metadata": {
        "id": "1Yn0DFu9O9h_"
      },
      "source": [
        "%cd UROP_project/"
      ],
      "execution_count": null,
      "outputs": []
    },
    {
      "cell_type": "code",
      "metadata": {
        "id": "bsHLR4A-PGlN"
      },
      "source": [
        "!pip install tensorflow==1.14\r\n",
        "!apt install swig"
      ],
      "execution_count": null,
      "outputs": []
    },
    {
      "cell_type": "code",
      "metadata": {
        "id": "Fa0CLQyhPK2a"
      },
      "source": [
        "!pip3 install -r requirements.txt && python setup.py install"
      ],
      "execution_count": null,
      "outputs": []
    },
    {
      "cell_type": "code",
      "metadata": {
        "id": "FcZLyU1xP6aP"
      },
      "source": [
        "!pip install tensorflow-gpu==1.14"
      ],
      "execution_count": null,
      "outputs": []
    },
    {
      "cell_type": "code",
      "metadata": {
        "id": "haCUW0XEP-iT"
      },
      "source": [
        "import numpy as np\r\n",
        "import math\r\n",
        "import glob\r\n",
        "import utils\r\n",
        "\r\n",
        "from parse import load_ps\r\n",
        "from pprint import pprint\r\n",
        "from scipy.signal import medfilt\r\n",
        "from sklearn.model_selection import train_test_split\r\n",
        "from sklearn.neighbors import KNeighborsClassifier\r\n",
        "from sklearn.neighbors import DistanceMetric\r\n",
        "from sklearn.metrics import classification_report"
      ],
      "execution_count": null,
      "outputs": []
    },
    {
      "cell_type": "code",
      "metadata": {
        "id": "cfd1i-C7Amjv"
      },
      "source": [
        "files = utils.files_in_order('poses_compressed/squat')\r\n",
        "\r\n",
        "X_train_names, X_test_names = train_test_split(files[1:16], test_size=0.2, random_state=42)\r\n",
        "y_train = utils.get_labels(X_train_names)#x_train_names의 목록\r\n",
        "y_test = utils.get_labels(X_test_names)#x_test_names의 목록\r\n",
        "\r\n",
        "pprint(X_train_names)\r\n",
        "pprint(y_train)\r\n",
        "pprint(X_test_names)\r\n",
        "pprint(y_test)"
      ],
      "execution_count": null,
      "outputs": []
    },
    {
      "cell_type": "code",
      "metadata": {
        "id": "BBKkJXXSBRnQ"
      },
      "source": [
        "def load_features(names, flag):\r\n",
        "    output1 = [] # List of upper arm torso angles\r\n",
        "    output2 = [] # List of upper_leg_under_leg_angle\r\n",
        "    output3 = [] # List of under_leg_ground_angle\r\n",
        "    for filename in names:\r\n",
        "        if flag == 0: # flag 0 이면 기존 training, test \r\n",
        "            ps = load_ps('poses_compressed/squat/'+filename)\r\n",
        "        else: # 1 flag 이면 새로 만든 값\r\n",
        "            ps = load_ps('numpy/'+filename)\r\n",
        "        \r\n",
        "        poses = ps.poses\r\n",
        "\r\n",
        "        right_present = [1 for pose in poses \r\n",
        "                if pose.rankle.exists and pose.rknee.exists and pose.rhip.exists]\r\n",
        "        left_present = [1 for pose in poses\r\n",
        "                if pose.lankle.exists and pose.lknee.exists and pose.lhip.exists]\r\n",
        "        right_count = sum(right_present)\r\n",
        "        left_count = sum(left_present)\r\n",
        "        side = 'right' if right_count > left_count else 'left'\r\n",
        "\r\n",
        "        if side == 'right':\r\n",
        "            joints = [(pose.rankle, pose.rknee, pose.rhip, pose.neck) for pose in poses]\r\n",
        "        else:\r\n",
        "            joints = [(pose.lankle, pose.lknee, pose.lhip,pose.neck) for pose in poses]\r\n",
        "\r\n",
        "        # filter out data points where a part does not exist\r\n",
        "        joints = [joint for joint in joints if all(part.exists for part in joint)]\r\n",
        "        \r\n",
        "        torso_vecs = np.array([(joint[3].x - joint[2].x, joint[3].y - joint[2].y) for joint in joints])#몸통벡터\r\n",
        "        upper_leg_vecs = np.array([(joint[2].x - joint[1].x, joint[2].y - joint[1].y) for joint in joints])#허벅지 벡터\r\n",
        "        under_leg_vecs = np.array([(joint[1].x - joint[0].x, joint[1].y - joint[0].y) for joint in joints])#정강이 벡터\r\n",
        "        ground_vecs=np.array([((joint[0].x)+4,0) for joint in joints])#x축과 평행한 벡터(땅벡터)\r\n",
        "\r\n",
        "        torso_vecs = torso_vecs / np.expand_dims(np.linalg.norm(torso_vecs, axis=1), axis=1)\r\n",
        "        upper_leg_vecs = upper_leg_vecs / np.expand_dims(np.linalg.norm(upper_leg_vecs, axis=1), axis=1)\r\n",
        "        under_leg_vecs = under_leg_vecs / np.expand_dims(np.linalg.norm(under_leg_vecs, axis=1), axis=1)\r\n",
        "        ground_vecs = ground_vecs / np.expand_dims(np.linalg.norm(under_leg_vecs, axis=1), axis=1)\r\n",
        "\r\n",
        "        upper_leg_torso_angle = np.degrees(np.arccos(np.clip(np.sum(np.multiply(upper_leg_vecs, torso_vecs), axis=1), -1.0, 1.0)))\r\n",
        "        upper_arm_torso_angle_filtered = medfilt(medfilt(upper_leg_torso_angle, 5), 5)\r\n",
        "        \r\n",
        "        upper_leg_under_leg_angle = np.degrees(np.arccos(np.clip(np.sum(np.multiply(upper_leg_vecs, under_leg_vecs), axis=1), -1.0, 1.0)))\r\n",
        "        upper_leg_under_leg_angle_filtered = medfilt(medfilt(upper_leg_under_leg_angle, 5), 5)\r\n",
        "\r\n",
        "        under_leg_ground_angle = np.degrees(np.arccos(np.clip(np.sum(np.multiply(under_leg_vecs, ground_vecs), axis=1), -1.0, 1.0)))\r\n",
        "        under_leg_ground_angle_filtered = medfilt(medfilt(under_leg_ground_angle, 5), 5)\r\n",
        "\r\n",
        "        output1.append(upper_arm_torso_angle_filtered.tolist())\r\n",
        "        output2.append(upper_leg_under_leg_angle_filtered.tolist())\r\n",
        "        output3.append(under_leg_ground_angle_filtered.tolist())\r\n",
        "     \r\n",
        "        \r\n",
        "    return output1, output2,output3\r\n",
        "#X_train_1, X_train_2 = load_features(X_train_names, 0)\r\n",
        "#X_test_1, X_test_2 = load_features(X_test_names, 0)\r\n",
        "'''\r\n",
        "X_train_1=load_features(X_train_names,0)\r\n",
        "X_train_2=load_features(X_train_names,0)\r\n",
        "X_test_1=load_features(X_test_names, 0)\r\n",
        "X_test_2=load_features(X_test_names, 0)\r\n",
        "X_new_names = ['test.npy']\r\n",
        "X_new_1= load_features(X_new_names, 1)\r\n",
        "X_new_2= load_features(X_new_names, 1)\r\n",
        "'''\r\n",
        "\r\n",
        "\r\n"
      ],
      "execution_count": null,
      "outputs": []
    },
    {
      "cell_type": "code",
      "metadata": {
        "id": "GOlgvwLQEF8X"
      },
      "source": [
        "def KNN(X_names, X_1, X_2):\r\n",
        "    predictions = []\r\n",
        "    \r\n",
        "    for example in range(len(X_names)): # X_test_names\r\n",
        "        # Store the average distance to good and bad training examples\r\n",
        "        f1_good, f1_bad, f2_good, f2_bad = [[] for i in range(4)]\r\n",
        "\r\n",
        "        # Compare distance of current test example with all training examples\r\n",
        "        for i in range(len(X_train_1)):\r\n",
        "            dist1 = utils.DTWDistance(np.array(X_train_1[i]),np.array(X_1[example]))\r\n",
        "            dist2 = utils.DTWDistance(X_train_2[i], X_2[example])\r\n",
        "            if y_train[i]:\r\n",
        "                f1_good.append(dist1)\r\n",
        "                f2_good.append(dist2)\r\n",
        "            else:\r\n",
        "                f1_bad.append(dist1)\r\n",
        "                f2_bad.append(dist2)\r\n",
        "        good_score = np.mean(f1_good) + np.mean(f2_good)\r\n",
        "        bad_score = np.mean(f1_bad) + np.mean(f2_bad)\r\n",
        "\r\n",
        "        if good_score < bad_score:\r\n",
        "            predictions.append(1)\r\n",
        "        else:\r\n",
        "            predictions.append(0)\r\n",
        "    #print(classification_report(y_test, predictions, target_names=['correct', 'incorrect']))\r\n",
        "    print(predictions)\r\n",
        "\r\n",
        "KNN(X_test_names, X_test_1, X_test_2) # 기존 test data \r\n",
        "KNN(X_new_names, X_new_1, X_new_2) # 영상에서 새로 추출한 데이터"
      ],
      "execution_count": null,
      "outputs": []
    },
    {
      "cell_type": "code",
      "metadata": {
        "id": "rcdomHduEWI3"
      },
      "source": [
        "!python3 utils.py"
      ],
      "execution_count": null,
      "outputs": []
    }
  ]
}