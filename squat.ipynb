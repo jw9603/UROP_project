{
 "cells": [
  {
   "cell_type": "markdown",
   "metadata": {
    "colab_type": "text",
    "id": "view-in-github"
   },
   "source": [
    "<a href=\"https://colab.research.google.com/github/silcheon/UROP_project/blob/master/squat.ipynb\" target=\"_parent\"><img src=\"https://colab.research.google.com/assets/colab-badge.svg\" alt=\"Open In Colab\"/></a>"
   ]
  },
  {
   "cell_type": "code",
   "execution_count": null,
   "metadata": {
    "id": "EcBlWEipOZBK"
   },
   "outputs": [],
   "source": [
    "from google.colab import drive\n",
    "drive.mount(\"/content/drive\")"
   ]
  },
  {
   "cell_type": "code",
   "execution_count": null,
   "metadata": {
    "id": "QS_dnNzcOq3G"
   },
   "outputs": [],
   "source": [
    "#!ls\n",
    "#%cd /content/drive\n",
    "#%cd MyDrive\n",
    "!ls\n",
    "#%cd drive/MyDrive/UROP2/UROP_project"
   ]
  },
  {
   "cell_type": "code",
   "execution_count": null,
   "metadata": {
    "id": "FrLtQWe-OyV4"
   },
   "outputs": [],
   "source": [
    "!git clone https://github.com/silcheon/UROP_project.git"
   ]
  },
  {
   "cell_type": "markdown",
   "metadata": {
    "id": "75JtpyW8SDsq"
   },
   "source": []
  },
  {
   "cell_type": "code",
   "execution_count": null,
   "metadata": {
    "id": "1Yn0DFu9O9h_"
   },
   "outputs": [],
   "source": [
    "%cd UROP_project/"
   ]
  },
  {
   "cell_type": "code",
   "execution_count": null,
   "metadata": {
    "id": "bsHLR4A-PGlN"
   },
   "outputs": [],
   "source": [
    "!pip install tensorflow==1.14\n",
    "!apt install swig"
   ]
  },
  {
   "cell_type": "code",
   "execution_count": null,
   "metadata": {
    "id": "Fa0CLQyhPK2a"
   },
   "outputs": [],
   "source": [
    "!pip3 install -r requirements.txt && python setup.py install"
   ]
  },
  {
   "cell_type": "code",
   "execution_count": null,
   "metadata": {
    "id": "FcZLyU1xP6aP"
   },
   "outputs": [],
   "source": [
    "!pip install tensorflow-gpu==1.14"
   ]
  },
  {
   "cell_type": "code",
   "execution_count": 2,
   "metadata": {
    "id": "haCUW0XEP-iT"
   },
   "outputs": [],
   "source": [
    "import numpy as np\n",
    "import math\n",
    "import glob\n",
    "import utils\n",
    "\n",
    "from parse import load_ps\n",
    "from pprint import pprint\n",
    "from scipy.signal import medfilt\n",
    "from sklearn.model_selection import train_test_split\n",
    "from sklearn.neighbors import KNeighborsClassifier\n",
    "from sklearn.neighbors import DistanceMetric\n",
    "from sklearn.metrics import classification_report"
   ]
  },
  {
   "cell_type": "code",
   "execution_count": 3,
   "metadata": {
    "id": "cfd1i-C7Amjv"
   },
   "outputs": [
    {
     "name": "stdout",
     "output_type": "stream",
     "text": [
      "array(['squat_good_6.npy', 'squat_bad_7.npy', 'squat_good_1.npy',\n",
      "       'squat_bad_4.npy', 'squat_bad_3.npy', 'squat_good_7.npy',\n",
      "       'squat_bad_6.npy', 'squat_bad_9.npy', 'squat_good_3.npy',\n",
      "       'squat_good_5.npy', 'squat_bad_5.npy', 'squat_bad_8.npy'],\n",
      "      dtype='<U17')\n",
      "array([1, 0, 1, 0, 0, 1, 0, 0, 1, 1, 0, 0])\n",
      "array(['squat_good_2.npy', 'squat_good_4.npy', 'squat_bad_2.npy'],\n",
      "      dtype='<U17')\n",
      "array([1, 1, 0])\n"
     ]
    }
   ],
   "source": [
    "files = utils.files_in_order('poses_compressed/squat')\n",
    "\n",
    "X_train_names, X_test_names = train_test_split(files[1:16], test_size=0.2, random_state=42)\n",
    "y_train = utils.get_labels(X_train_names)#x_train_names의 목록\n",
    "y_test = utils.get_labels(X_test_names)#x_test_names의 목록\n",
    "\n",
    "pprint(X_train_names)\n",
    "pprint(y_train)\n",
    "pprint(X_test_names)\n",
    "pprint(y_test)"
   ]
  },
  {
   "cell_type": "code",
   "execution_count": 10,
   "metadata": {
    "id": "BBKkJXXSBRnQ"
   },
   "outputs": [
    {
     "name": "stdout",
     "output_type": "stream",
     "text": [
      "[[5.560478778838823,\n",
      "  7.5816117282901,\n",
      "  7.5816117282901,\n",
      "  7.5816117282901,\n",
      "  8.549076820418696,\n",
      "  8.549076820418696,\n",
      "  12.39827711213911,\n",
      "  12.684820140600339,\n",
      "  13.060620782947417,\n",
      "  16.012287568116278,\n",
      "  16.012287568116278,\n",
      "  18.445736489293544,\n",
      "  19.549560006063484,\n",
      "  20.033789903766092,\n",
      "  20.17182443989727,\n",
      "  20.17182443989727,\n",
      "  24.783137245625632,\n",
      "  26.026788194054717,\n",
      "  27.76818894096828,\n",
      "  29.696286955442137,\n",
      "  29.696286955442137,\n",
      "  30.285727308470857,\n",
      "  30.450852002073397,\n",
      "  32.70898003415781,\n",
      "  32.70898003415781,\n",
      "  35.121377838846115,\n",
      "  35.121377838846115,\n",
      "  35.54956220467312,\n",
      "  37.50907838034831,\n",
      "  38.701914377257964,\n",
      "  39.802787013362895,\n",
      "  39.802787013362895,\n",
      "  42.607056478598864,\n",
      "  43.707929114703745,\n",
      "  44.85428758348232,\n",
      "  49.03077346299563,\n",
      "  49.03077346299563,\n",
      "  50.057807451793465,\n",
      "  50.057807451793465,\n",
      "  53.066395421247876,\n",
      "  55.32713658950795,\n",
      "  57.6097976513249,\n",
      "  57.6097976513249,\n",
      "  63.10968128807682,\n",
      "  63.23181339709344,\n",
      "  63.23181339709344,\n",
      "  63.35957210075634,\n",
      "  67.07998007131842,\n",
      "  69.91865067018256,\n",
      "  71.10753459502318,\n",
      "  71.10753459502318,\n",
      "  71.10753459502318,\n",
      "  71.35742540770269,\n",
      "  71.35742540770269,\n",
      "  71.35742540770269,\n",
      "  71.35742540770269,\n",
      "  71.35742540770269,\n",
      "  71.35742540770269,\n",
      "  74.03245234327213,\n",
      "  74.03245234327213,\n",
      "  74.03245234327213,\n",
      "  73.65102211366607,\n",
      "  59.84801571330401,\n",
      "  59.73821129509172,\n",
      "  52.22389546781795,\n",
      "  52.22389546781795,\n",
      "  48.32113698522926,\n",
      "  44.82482606721199,\n",
      "  42.16876377900486,\n",
      "  36.179381846723984,\n",
      "  35.08744418590475,\n",
      "  30.58449646195355,\n",
      "  29.180698291156496,\n",
      "  28.422634313111903,\n",
      "  27.82163644790886,\n",
      "  27.82163644790886,\n",
      "  26.676894441766805,\n",
      "  24.366797655275256,\n",
      "  21.705305242680012,\n",
      "  19.28548186966314,\n",
      "  16.8462483822076,\n",
      "  16.8462483822076,\n",
      "  14.616061044371868,\n",
      "  11.66138542962415,\n",
      "  10.187971578127618,\n",
      "  10.187971578127618,\n",
      "  6.536534666911627,\n",
      "  6.237702988384907,\n",
      "  4.060481541616569,\n",
      "  3.7490645223479477,\n",
      "  1.6603260132629973,\n",
      "  1.5711260688466226,\n",
      "  1.4846426645685367,\n",
      "  1.4221851622881936,\n",
      "  1.4221851622881936,\n",
      "  1.4221851622881936,\n",
      "  1.4221851622881936,\n",
      "  0.8857506360690097,\n",
      "  0.25838910296144035],\n",
      " [4.954566868459239,\n",
      "  4.954566868459239,\n",
      "  9.668668661083625,\n",
      "  10.555579502755162,\n",
      "  10.555579502755162,\n",
      "  14.815894011037834,\n",
      "  14.815894011037834,\n",
      "  14.815894011037834,\n",
      "  14.918446768728163,\n",
      "  14.918446768728163,\n",
      "  14.944520355135387,\n",
      "  16.317698124718564,\n",
      "  22.87445801004384,\n",
      "  28.332575470243675,\n",
      "  28.765690923232768,\n",
      "  34.39267426427554,\n",
      "  43.275155655952275,\n",
      "  49.27072409756309,\n",
      "  53.571683371552055,\n",
      "  57.88303241452662,\n",
      "  62.44212896022844,\n",
      "  64.79677167173878,\n",
      "  70.1266066164491,\n",
      "  70.73378916815577,\n",
      "  83.2404862519988,\n",
      "  93.14756752601947,\n",
      "  100.8566956713487,\n",
      "  104.72245627057151,\n",
      "  108.41382944331052,\n",
      "  113.07041224982464,\n",
      "  118.43549746599318,\n",
      "  119.14399987564762,\n",
      "  120.02730391291207,\n",
      "  120.02730391291207,\n",
      "  120.02730391291207,\n",
      "  120.02730391291207,\n",
      "  118.60886491516744,\n",
      "  118.60886491516744,\n",
      "  118.23028399678408,\n",
      "  116.05995954555034,\n",
      "  112.40078962190593,\n",
      "  104.56748815754577,\n",
      "  71.74608415358527,\n",
      "  66.96590974762283,\n",
      "  63.52624065751215,\n",
      "  62.19317938054379,\n",
      "  58.69686846252656,\n",
      "  45.622700060253955,\n",
      "  40.51212063792385,\n",
      "  26.499236413075955,\n",
      "  24.7493823946096,\n",
      "  22.010538646366996,\n",
      "  13.309610906015148,\n",
      "  7.660475334466329,\n",
      "  1.6625138453879746,\n",
      "  1.6625138453879746,\n",
      "  1.6625138453879746,\n",
      "  5.934974592370994,\n",
      "  5.934974592370994,\n",
      "  5.934974592370994,\n",
      "  4.473230680645444,\n",
      "  1.5314364348644613],\n",
      " [11.565792077087936,\n",
      "  11.565792077087936,\n",
      "  11.565792077087936,\n",
      "  10.802105936487818,\n",
      "  10.802105936487818,\n",
      "  10.802105936487818,\n",
      "  10.802105936487818,\n",
      "  11.973208199219323,\n",
      "  14.292805540553214,\n",
      "  16.411565977709742,\n",
      "  16.411565977709742,\n",
      "  16.69912843293672,\n",
      "  16.69912843293672,\n",
      "  17.062909688377868,\n",
      "  17.379273991945702,\n",
      "  23.934774248610978,\n",
      "  28.943108985904537,\n",
      "  35.46868936196377,\n",
      "  35.46868936196377,\n",
      "  35.46868936196377,\n",
      "  6.374553174163149]]\n"
     ]
    },
    {
     "data": {
      "text/plain": [
       "\"\\nX_train_1=load_features(X_train_names,0)\\nX_train_2=load_features(X_train_names,0)\\nX_test_1=load_features(X_test_names, 0)\\nX_test_2=load_features(X_test_names, 0)\\nX_new_names = ['test.npy']\\nX_new_1= load_features(X_new_names, 1)\\nX_new_2= load_features(X_new_names, 1)\\n\""
      ]
     },
     "execution_count": 10,
     "metadata": {},
     "output_type": "execute_result"
    }
   ],
   "source": [
    "def load_features(names, flag):\n",
    "    output1 = [] # List of upper arm torso angles\n",
    "    output2 = [] # List of upper_leg_under_leg_angle\n",
    "    output3 = [] # List of under_leg_ground_angle\n",
    "    \n",
    "    for filename in names:\n",
    "        if flag == 0: # flag 0 이면 기존 training, test \n",
    "            ps = load_ps('poses_compressed/squat/'+filename)\n",
    "        else: # 1 flag 이면 새로 만든 값\n",
    "            ps = load_ps('numpy/'+filename)\n",
    "        \n",
    "        poses = ps.poses\n",
    "\n",
    "        right_present = [1 for pose in poses \n",
    "                if pose.rankle.exists and pose.rknee.exists and pose.rhip.exists]\n",
    "        left_present = [1 for pose in poses\n",
    "                if pose.lankle.exists and pose.lknee.exists and pose.lhip.exists]\n",
    "        right_count = sum(right_present)\n",
    "        left_count = sum(left_present)\n",
    "        side = 'right' if right_count > left_count else 'left'\n",
    "\n",
    "        if side == 'right':\n",
    "            joints = [(pose.rankle, pose.rknee, pose.rhip, pose.neck) for pose in poses]\n",
    "        else:\n",
    "            joints = [(pose.lankle, pose.lknee, pose.lhip,pose.neck) for pose in poses]\n",
    "\n",
    "        # filter out data points where a part does not exist\n",
    "        joints = [joint for joint in joints if all(part.exists for part in joint)]\n",
    "        \n",
    "        torso_vecs = np.array([(joint[3].x - joint[2].x, joint[3].y - joint[2].y) for joint in joints])#몸통벡터\n",
    "        upper_leg_vecs = np.array([(joint[2].x - joint[1].x, joint[2].y - joint[1].y) for joint in joints])#허벅지 벡터\n",
    "        under_leg_vecs = np.array([(joint[1].x - joint[0].x, joint[1].y - joint[0].y) for joint in joints])#정강이 벡터\n",
    "        ground_vecs=np.array([((joint[0].x)+4,0) for joint in joints])#x축과 평행한 벡터(땅벡터)\n",
    "\n",
    "        torso_vecs = torso_vecs / np.expand_dims(np.linalg.norm(torso_vecs, axis=1), axis=1)\n",
    "        upper_leg_vecs = upper_leg_vecs / np.expand_dims(np.linalg.norm(upper_leg_vecs, axis=1), axis=1)\n",
    "        under_leg_vecs = under_leg_vecs / np.expand_dims(np.linalg.norm(under_leg_vecs, axis=1), axis=1)\n",
    "        ground_vecs = ground_vecs / np.expand_dims(np.linalg.norm(under_leg_vecs, axis=1), axis=1)\n",
    "\n",
    "        upper_leg_torso_angle = np.degrees(np.arccos(np.clip(np.sum(np.multiply(upper_leg_vecs, torso_vecs), axis=1), -1.0, 1.0)))\n",
    "        upper_arm_torso_angle_filtered = medfilt(medfilt(upper_leg_torso_angle, 5), 5)\n",
    "        \n",
    "        upper_leg_under_leg_angle = np.degrees(np.arccos(np.clip(np.sum(np.multiply(upper_leg_vecs, under_leg_vecs), axis=1), -1.0, 1.0)))\n",
    "        upper_leg_under_leg_angle_filtered = medfilt(medfilt(upper_leg_under_leg_angle, 5), 5)\n",
    "\n",
    "        under_leg_ground_angle = np.degrees(np.arccos(np.clip(np.sum(np.multiply(under_leg_vecs, ground_vecs), axis=1), -1.0, 1.0)))\n",
    "        under_leg_ground_angle_filtered = medfilt(medfilt(under_leg_ground_angle, 5), 5)\n",
    "\n",
    "        output1.append(upper_arm_torso_angle_filtered.tolist())\n",
    "        output2.append(upper_leg_under_leg_angle_filtered.tolist())\n",
    "        output3.append(under_leg_ground_angle_filtered.tolist())\n",
    "     \n",
    "        \n",
    "    return output1, output2, output3\n",
    "\n",
    "X_train_1, X_train_2, X_train_3 = load_features(X_train_names, 0)\n",
    "\n",
    "\n",
    "X_test_1, X_test_2, X_train_3 = load_features(X_test_names, 0)\n",
    "pprint(X_test_1)\n",
    "\n",
    "'''\n",
    "X_train_1=load_features(X_train_names,0)\n",
    "X_train_2=load_features(X_train_names,0)\n",
    "X_test_1=load_features(X_test_names, 0)\n",
    "X_test_2=load_features(X_test_names, 0)\n",
    "X_new_names = ['test.npy']\n",
    "X_new_1= load_features(X_new_names, 1)\n",
    "X_new_2= load_features(X_new_names, 1)\n",
    "'''\n",
    "\n",
    "\n"
   ]
  },
  {
   "cell_type": "code",
   "execution_count": 11,
   "metadata": {
    "id": "GOlgvwLQEF8X"
   },
   "outputs": [
    {
     "name": "stdout",
     "output_type": "stream",
     "text": [
      "[1, 1, 0]\n"
     ]
    }
   ],
   "source": [
    "def KNN(X_names, X_1, X_2):\n",
    "    predictions = []\n",
    "    \n",
    "    for example in range(len(X_names)): # X_test_names\n",
    "        # Store the average distance to good and bad training examples\n",
    "        f1_good, f1_bad, f2_good, f2_bad = [[] for i in range(4)]\n",
    "\n",
    "        # Compare distance of current test example with all training examples\n",
    "        for i in range(len(X_train_1)):\n",
    "            dist1 = utils.DTWDistance(np.array(X_train_1[i]),np.array(X_1[example]))\n",
    "            dist2 = utils.DTWDistance(X_train_2[i], X_2[example])\n",
    "            if y_train[i]:\n",
    "                f1_good.append(dist1)\n",
    "                f2_good.append(dist2)\n",
    "            else:\n",
    "                f1_bad.append(dist1)\n",
    "                f2_bad.append(dist2)\n",
    "        good_score = np.mean(f1_good) + np.mean(f2_good)\n",
    "        bad_score = np.mean(f1_bad) + np.mean(f2_bad)\n",
    "\n",
    "        if good_score < bad_score:\n",
    "            predictions.append(1)\n",
    "        else:\n",
    "            predictions.append(0)\n",
    "    #print(classification_report(y_test, predictions, target_names=['correct', 'incorrect']))\n",
    "    print(predictions)\n",
    "\n",
    "KNN(X_test_names, X_test_1, X_test_2) # 기존 test data \n",
    "# KNN(X_new_names, X_new_1, X_new_2) # 영상에서 새로 추출한 데이터"
   ]
  },
  {
   "cell_type": "code",
   "execution_count": null,
   "metadata": {
    "id": "rcdomHduEWI3"
   },
   "outputs": [],
   "source": [
    "!python3 utils.py"
   ]
  }
 ],
 "metadata": {
  "colab": {
   "collapsed_sections": [],
   "include_colab_link": true,
   "name": "squat.ipynb",
   "private_outputs": true,
   "provenance": []
  },
  "kernelspec": {
   "display_name": "Python 3",
   "language": "python",
   "name": "python3"
  },
  "language_info": {
   "codemirror_mode": {
    "name": "ipython",
    "version": 3
   },
   "file_extension": ".py",
   "mimetype": "text/x-python",
   "name": "python",
   "nbconvert_exporter": "python",
   "pygments_lexer": "ipython3",
   "version": "3.6.12"
  }
 },
 "nbformat": 4,
 "nbformat_minor": 1
}
