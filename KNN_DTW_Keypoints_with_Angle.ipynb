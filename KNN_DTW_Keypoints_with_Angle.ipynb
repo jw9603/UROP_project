{
 "cells": [
  {
   "cell_type": "markdown",
   "metadata": {
    "colab": {
     "base_uri": "https://localhost:8080/"
    },
    "executionInfo": {
     "elapsed": 668,
     "status": "ok",
     "timestamp": 1608391765601,
     "user": {
      "displayName": "임정선",
      "photoUrl": "",
      "userId": "07763586888403287668"
     },
     "user_tz": -540
    },
    "id": "T-3QV-1zg8F-",
    "outputId": "6a397ab4-9116-48cb-ad43-871e6627e52a"
   },
   "source": [
    "from google.colab import drive\n",
    "drive.mount(\"/content/drive\")\n",
    "\n",
    "%cd /content/drive/My\\ Drive/UROP/project/UROP_project/\n",
    "\n",
    "# 478"
   ]
  },
  {
   "cell_type": "code",
   "execution_count": 323,
   "metadata": {
    "executionInfo": {
     "elapsed": 941,
     "status": "ok",
     "timestamp": 1608391765879,
     "user": {
      "displayName": "임정선",
      "photoUrl": "",
      "userId": "07763586888403287668"
     },
     "user_tz": -540
    },
    "id": "NUe2L-0pg2qV"
   },
   "outputs": [],
   "source": [
    "import numpy as np\n",
    "import math\n",
    "import glob\n",
    "import utils\n",
    "\n",
    "from parse import load_ps\n",
    "from pprint import pprint\n",
    "from scipy.signal import medfilt\n",
    "from sklearn.model_selection import train_test_split\n",
    "from sklearn.neighbors import KNeighborsClassifier\n",
    "from sklearn.neighbors import DistanceMetric\n",
    "from sklearn.metrics import classification_report\n"
   ]
  },
  {
   "cell_type": "code",
   "execution_count": 324,
   "metadata": {
    "colab": {
     "base_uri": "https://localhost:8080/"
    },
    "executionInfo": {
     "elapsed": 936,
     "status": "ok",
     "timestamp": 1608391765879,
     "user": {
      "displayName": "임정선",
      "photoUrl": "",
      "userId": "07763586888403287668"
     },
     "user_tz": -540
    },
    "id": "hrnwPvp6g2qa",
    "outputId": "9977f1d8-a081-4c56-e297-45d4cecbdd88"
   },
   "outputs": [
    {
     "name": "stdout",
     "output_type": "stream",
     "text": [
      "array(['squat_good_2.npy', 'squat_good_6.npy', 'squat_bad_4.npy',\n",
      "       'squat_good_10.npy', 'squat_bad_11.npy', 'squat_good_7.npy',\n",
      "       'squat_good_8.npy', 'squat_bad_5.npy', 'squat_bad_3.npy',\n",
      "       'squat_good_9.npy', 'squat_bad_7.npy', 'squat_bad_8.npy',\n",
      "       'squat_good_11.npy', 'squat_bad_2.npy', 'squat_good_5.npy',\n",
      "       'squat_bad_1.npy', 'squat_good_4.npy', 'squat_good_13.npy',\n",
      "       'squat_good_12.npy', 'squat_bad_10.npy', 'squat_bad_9.npy',\n",
      "       'squat_good_1.npy', 'squat_bad_12.npy', 'squat_bad_6.npy'],\n",
      "      dtype='<U17')\n",
      "array([1, 1, 0, 1, 0, 1, 1, 0, 0, 1, 0, 0, 1, 0, 1, 0, 1, 1, 1, 0, 0, 1,\n",
      "       0, 0])\n",
      "array(['squat_good_3.npy'], dtype='<U17')\n",
      "array([1])\n"
     ]
    }
   ],
   "source": [
    "files = utils.files_in_order('poses_compressed/squat')\n",
    "\n",
    "#print(files)\n",
    "X_train_names, X_test_names = train_test_split(files, test_size=0.025, random_state=1)\n",
    "y_train = utils.get_labels(X_train_names)\n",
    "y_test = utils.get_labels(X_test_names)\n",
    "\n",
    "pprint(X_train_names)\n",
    "pprint(y_train)\n",
    "pprint(X_test_names)\n",
    "pprint(y_test)"
   ]
  },
  {
   "cell_type": "code",
   "execution_count": 325,
   "metadata": {},
   "outputs": [
    {
     "name": "stdout",
     "output_type": "stream",
     "text": [
      "array(['squat_good_3.npy'], dtype='<U17')\n",
      "array([1])\n"
     ]
    }
   ],
   "source": [
    "def split_data_set(rs) :\n",
    "    X_train_names, X_test_names = train_test_split(files, test_size=0.025, random_state=rs)\n",
    "    y_train = utils.get_labels(X_train_names)\n",
    "    y_test = utils.get_labels(X_test_names)\n",
    "\n",
    "    return X_test_names, X_test_names, y_train, y_test\n",
    "\n",
    "pprint(X_test_names)\n",
    "pprint(y_test)"
   ]
  },
  {
   "cell_type": "code",
   "execution_count": 336,
   "metadata": {},
   "outputs": [
    {
     "name": "stderr",
     "output_type": "stream",
     "text": [
      "/Users/imjungsun/.pyenv/versions/urop_env/lib/python3.6/site-packages/ipykernel_launcher.py:67: VisibleDeprecationWarning: Creating an ndarray from ragged nested sequences (which is a list-or-tuple of lists-or-tuples-or ndarrays with different lengths or shapes) is deprecated. If you meant to do this, you must specify 'dtype=object' when creating the ndarray\n"
     ]
    },
    {
     "name": "stdout",
     "output_type": "stream",
     "text": [
      "\n",
      "## TEST RESULT ##\n"
     ]
    },
    {
     "name": "stderr",
     "output_type": "stream",
     "text": [
      "/Users/imjungsun/.pyenv/versions/urop_env/lib/python3.6/site-packages/ipykernel_launcher.py:67: VisibleDeprecationWarning: Creating an ndarray from ragged nested sequences (which is a list-or-tuple of lists-or-tuples-or ndarrays with different lengths or shapes) is deprecated. If you meant to do this, you must specify 'dtype=object' when creating the ndarray\n"
     ]
    },
    {
     "name": "stdout",
     "output_type": "stream",
     "text": [
      "\n",
      "## TEST RESULT ##\n"
     ]
    },
    {
     "name": "stderr",
     "output_type": "stream",
     "text": [
      "/Users/imjungsun/.pyenv/versions/urop_env/lib/python3.6/site-packages/ipykernel_launcher.py:67: VisibleDeprecationWarning: Creating an ndarray from ragged nested sequences (which is a list-or-tuple of lists-or-tuples-or ndarrays with different lengths or shapes) is deprecated. If you meant to do this, you must specify 'dtype=object' when creating the ndarray\n"
     ]
    },
    {
     "name": "stdout",
     "output_type": "stream",
     "text": [
      "\n",
      "## TEST RESULT ##\n"
     ]
    },
    {
     "name": "stderr",
     "output_type": "stream",
     "text": [
      "/Users/imjungsun/.pyenv/versions/urop_env/lib/python3.6/site-packages/ipykernel_launcher.py:67: VisibleDeprecationWarning: Creating an ndarray from ragged nested sequences (which is a list-or-tuple of lists-or-tuples-or ndarrays with different lengths or shapes) is deprecated. If you meant to do this, you must specify 'dtype=object' when creating the ndarray\n"
     ]
    },
    {
     "name": "stdout",
     "output_type": "stream",
     "text": [
      "\n",
      "## TEST RESULT ##\n"
     ]
    },
    {
     "name": "stderr",
     "output_type": "stream",
     "text": [
      "/Users/imjungsun/.pyenv/versions/urop_env/lib/python3.6/site-packages/ipykernel_launcher.py:67: VisibleDeprecationWarning: Creating an ndarray from ragged nested sequences (which is a list-or-tuple of lists-or-tuples-or ndarrays with different lengths or shapes) is deprecated. If you meant to do this, you must specify 'dtype=object' when creating the ndarray\n"
     ]
    },
    {
     "name": "stdout",
     "output_type": "stream",
     "text": [
      "\n",
      "## TEST RESULT ##\n"
     ]
    },
    {
     "name": "stderr",
     "output_type": "stream",
     "text": [
      "/Users/imjungsun/.pyenv/versions/urop_env/lib/python3.6/site-packages/ipykernel_launcher.py:67: VisibleDeprecationWarning: Creating an ndarray from ragged nested sequences (which is a list-or-tuple of lists-or-tuples-or ndarrays with different lengths or shapes) is deprecated. If you meant to do this, you must specify 'dtype=object' when creating the ndarray\n"
     ]
    },
    {
     "name": "stdout",
     "output_type": "stream",
     "text": [
      "\n",
      "## TEST RESULT ##\n"
     ]
    },
    {
     "name": "stderr",
     "output_type": "stream",
     "text": [
      "/Users/imjungsun/.pyenv/versions/urop_env/lib/python3.6/site-packages/ipykernel_launcher.py:67: VisibleDeprecationWarning: Creating an ndarray from ragged nested sequences (which is a list-or-tuple of lists-or-tuples-or ndarrays with different lengths or shapes) is deprecated. If you meant to do this, you must specify 'dtype=object' when creating the ndarray\n"
     ]
    },
    {
     "name": "stdout",
     "output_type": "stream",
     "text": [
      "\n",
      "## TEST RESULT ##\n"
     ]
    },
    {
     "name": "stderr",
     "output_type": "stream",
     "text": [
      "/Users/imjungsun/.pyenv/versions/urop_env/lib/python3.6/site-packages/ipykernel_launcher.py:67: VisibleDeprecationWarning: Creating an ndarray from ragged nested sequences (which is a list-or-tuple of lists-or-tuples-or ndarrays with different lengths or shapes) is deprecated. If you meant to do this, you must specify 'dtype=object' when creating the ndarray\n"
     ]
    },
    {
     "name": "stdout",
     "output_type": "stream",
     "text": [
      "\n",
      "## TEST RESULT ##\n"
     ]
    },
    {
     "name": "stderr",
     "output_type": "stream",
     "text": [
      "/Users/imjungsun/.pyenv/versions/urop_env/lib/python3.6/site-packages/ipykernel_launcher.py:67: VisibleDeprecationWarning: Creating an ndarray from ragged nested sequences (which is a list-or-tuple of lists-or-tuples-or ndarrays with different lengths or shapes) is deprecated. If you meant to do this, you must specify 'dtype=object' when creating the ndarray\n"
     ]
    },
    {
     "name": "stdout",
     "output_type": "stream",
     "text": [
      "\n",
      "## TEST RESULT ##\n",
      "\n",
      "## TEST RESULT ##\n",
      "[1, 1, 0, 1, 1, 1, 0, 1, 1, 1]\n"
     ]
    },
    {
     "name": "stderr",
     "output_type": "stream",
     "text": [
      "/Users/imjungsun/.pyenv/versions/urop_env/lib/python3.6/site-packages/ipykernel_launcher.py:67: VisibleDeprecationWarning: Creating an ndarray from ragged nested sequences (which is a list-or-tuple of lists-or-tuples-or ndarrays with different lengths or shapes) is deprecated. If you meant to do this, you must specify 'dtype=object' when creating the ndarray\n"
     ]
    }
   ],
   "source": [
    "mode = 'ka'\n",
    "acc_cnt = []\n",
    "\n",
    "for j in range(10) :\n",
    "    result = []\n",
    "    X_test_names, X_test_names, y_train, y_test = split_data_set(j*17+7)\n",
    "\n",
    "    #print(X_test_names)\n",
    "    \n",
    "\n",
    "    for i in range(len(X_test_names)) :\n",
    "        #print(X_test_names[i])\n",
    "        test_label = KNN_test(X_train_names, X_test_names[i], train_anlges, X_test_1[i], X_test_2[i], X_test_3[i]) # 기존 test data \n",
    "        result.append([X_test_names[i], test_label])\n",
    "\n",
    "        acc_cnt.append(print_result())\n",
    "\n",
    "print(acc_cnt)\n",
    "\n",
    "# j*17+7\n",
    "# k 40%\n",
    "# anlge 80%\n",
    "# ka 80%\n",
    "    \n",
    "    \n",
    "    "
   ]
  },
  {
   "cell_type": "code",
   "execution_count": 327,
   "metadata": {},
   "outputs": [
    {
     "name": "stdout",
     "output_type": "stream",
     "text": [
      "['squat_good_2.npy' 'squat_good_6.npy' 'squat_bad_4.npy'\n",
      " 'squat_good_10.npy' 'squat_bad_11.npy' 'squat_good_7.npy'\n",
      " 'squat_good_8.npy' 'squat_bad_5.npy' 'squat_bad_3.npy' 'squat_good_9.npy'\n",
      " 'squat_bad_7.npy' 'squat_bad_8.npy' 'squat_good_11.npy' 'squat_bad_2.npy'\n",
      " 'squat_good_5.npy' 'squat_bad_1.npy' 'squat_good_4.npy'\n",
      " 'squat_good_13.npy' 'squat_good_12.npy' 'squat_bad_10.npy'\n",
      " 'squat_bad_9.npy' 'squat_good_1.npy' 'squat_bad_12.npy' 'squat_bad_6.npy']\n",
      "squat_good_2.npy\n",
      "squat_good_6.npy\n",
      "squat_bad_4.npy\n",
      "squat_good_10.npy\n",
      "squat_bad_11.npy\n",
      "squat_good_7.npy\n",
      "squat_good_8.npy\n",
      "squat_bad_5.npy\n",
      "squat_bad_3.npy\n",
      "squat_good_9.npy\n",
      "squat_bad_7.npy\n",
      "squat_bad_8.npy\n",
      "squat_good_11.npy\n",
      "squat_bad_2.npy\n",
      "squat_good_5.npy\n",
      "squat_bad_1.npy\n",
      "squat_good_4.npy\n",
      "squat_good_13.npy\n",
      "squat_good_12.npy\n",
      "squat_bad_10.npy\n",
      "squat_bad_9.npy\n",
      "squat_good_1.npy\n",
      "squat_bad_12.npy\n",
      "squat_bad_6.npy\n"
     ]
    },
    {
     "name": "stderr",
     "output_type": "stream",
     "text": [
      "/Users/imjungsun/.pyenv/versions/urop_env/lib/python3.6/site-packages/ipykernel_launcher.py:65: VisibleDeprecationWarning: Creating an ndarray from ragged nested sequences (which is a list-or-tuple of lists-or-tuples-or ndarrays with different lengths or shapes) is deprecated. If you meant to do this, you must specify 'dtype=object' when creating the ndarray\n"
     ]
    },
    {
     "data": {
      "text/plain": [
       "\"\\nX_train_1=load_features(X_train_names,0)\\nX_train_2=load_features(X_train_names,0)\\nX_test_1=load_features(X_test_names, 0)\\nX_test_2=load_features(X_test_names, 0)\\nX_new_names = ['test.npy']\\nX_new_1= load_features(X_new_names, 1)\\nX_new_2= load_features(X_new_names, 1)\\n\""
      ]
     },
     "execution_count": 327,
     "metadata": {},
     "output_type": "execute_result"
    }
   ],
   "source": [
    "def load_features(names, flag):\n",
    "    output1 = [] # List of upper arm torso angles\n",
    "    output2 = [] # List of upper_leg_under_leg_angle\n",
    "    output3 = [] # List of under_leg_ground_angle\n",
    "    \n",
    "    for filename in names:\n",
    "        if flag == 0: # flag 0 이면 기존 training, test \n",
    "            ps = load_ps('poses_compressed/squat/'+filename)\n",
    "        else: # 1 flag 이면 새로 만든 값\n",
    "            ps = load_ps('numpy/'+filename)\n",
    "        \n",
    "        poses = ps.poses\n",
    "\n",
    "        right_present = [1 for pose in poses \n",
    "                if pose.rankle.exists and pose.rknee.exists and pose.rhip.exists]\n",
    "        left_present = [1 for pose in poses\n",
    "                if pose.lankle.exists and pose.lknee.exists and pose.lhip.exists]\n",
    "        right_count = sum(right_present)\n",
    "        left_count = sum(left_present)\n",
    "        side = 'right' if right_count > left_count else 'left'\n",
    "\n",
    "        if side == 'right':\n",
    "            joints = [(pose.rankle, pose.rknee, pose.rhip, pose.neck) for pose in poses]\n",
    "        else:\n",
    "            joints = [(pose.lankle, pose.lknee, pose.lhip,pose.neck) for pose in poses]\n",
    "\n",
    "        # filter out data points where a part does not exist\n",
    "        joints = [joint for joint in joints if all(part.exists for part in joint)]\n",
    "        \n",
    "        torso_vecs = np.array([(joint[3].x - joint[2].x, joint[3].y - joint[2].y) for joint in joints])#몸통벡터\n",
    "        upper_leg_vecs = np.array([(joint[2].x - joint[1].x, joint[2].y - joint[1].y) for joint in joints])#허벅지 벡터\n",
    "        under_leg_vecs = np.array([(joint[1].x - joint[0].x, joint[1].y - joint[0].y) for joint in joints])#정강이 벡터\n",
    "        ground_vecs=np.array([((joint[0].x)+4,0) for joint in joints])#x축과 평행한 벡터(땅벡터)\n",
    "\n",
    "        torso_vecs = torso_vecs / np.expand_dims(np.linalg.norm(torso_vecs, axis=1), axis=1)\n",
    "        upper_leg_vecs = upper_leg_vecs / np.expand_dims(np.linalg.norm(upper_leg_vecs, axis=1), axis=1)\n",
    "        under_leg_vecs = under_leg_vecs / np.expand_dims(np.linalg.norm(under_leg_vecs, axis=1), axis=1)\n",
    "        ground_vecs = ground_vecs / np.expand_dims(np.linalg.norm(under_leg_vecs, axis=1), axis=1)\n",
    "\n",
    "        upper_leg_torso_angle = np.degrees(np.arccos(np.clip(np.sum(np.multiply(upper_leg_vecs, torso_vecs), axis=1), -1.0, 1.0)))\n",
    "        upper_arm_torso_angle_filtered = medfilt(medfilt(upper_leg_torso_angle, 5), 5)\n",
    "        \n",
    "        upper_leg_under_leg_angle = np.degrees(np.arccos(np.clip(np.sum(np.multiply(upper_leg_vecs, under_leg_vecs), axis=1), -1.0, 1.0)))\n",
    "        upper_leg_under_leg_angle_filtered = medfilt(medfilt(upper_leg_under_leg_angle, 5), 5)\n",
    "\n",
    "        under_leg_ground_angle = np.degrees(np.arccos(np.clip(np.sum(np.multiply(under_leg_vecs, ground_vecs), axis=1), -1.0, 1.0)))\n",
    "        under_leg_ground_angle_filtered = medfilt(medfilt(under_leg_ground_angle, 5), 5)\n",
    "\n",
    "        output1.append(upper_arm_torso_angle_filtered.tolist())\n",
    "        output2.append(upper_leg_under_leg_angle_filtered.tolist())\n",
    "        output3.append(under_leg_ground_angle_filtered.tolist())\n",
    "     \n",
    "        \n",
    "    return output1, output2, output3\n",
    "\n",
    "X_train_1, X_train_2, X_train_3 = load_features(X_train_names, 0)\n",
    "X_test_1, X_test_2, X_test_3 = load_features(X_test_names, 0)\n",
    "print(X_train_names)\n",
    "#pprint(X_train_1[0])\n",
    "#pprint(X_train_2[0])\n",
    "\n",
    "\n",
    "train_anlges = [X_train_1, X_train_2, X_train_3]\n",
    "\n",
    "train_angle = np.array(train_anlges)\n",
    "\n",
    "\n",
    "good1 = []\n",
    "bad1  = []\n",
    "good2 = []\n",
    "bad2  = []\n",
    "good3 = []\n",
    "bad3  = []\n",
    "\n",
    "\n",
    "\n",
    "for i in range(24) : \n",
    "    max1 = max(train_angle[0][i])\n",
    "    max2 = max(train_angle[1][i])\n",
    "    max3 = max(train_angle[2][i])\n",
    "    \n",
    "    min1 = min(train_angle[0][i])\n",
    "    min2 = min(train_angle[1][i])\n",
    "    min3 = min(train_angle[2][i])\n",
    "\n",
    "    if X_train_names[i].split(\"_\")[1] == 'good' :\n",
    "        good1.extend([max1, min1])\n",
    "        good2.extend([max2, min2])\n",
    "        good3.extend([max3, min3])\n",
    "    \n",
    "    if X_train_names[i].split(\"_\")[1] == 'bad' :\n",
    "        bad1.extend([max1, min1])\n",
    "        bad2.extend([max2, min2])\n",
    "        bad3.extend([max3, min3])\n",
    "        \n",
    "    print(X_train_names[i])\n",
    "\n",
    "'''\n",
    "X_train_1=load_features(X_train_names,0)\n",
    "X_train_2=load_features(X_train_names,0)\n",
    "X_test_1=load_features(X_test_names, 0)\n",
    "X_test_2=load_features(X_test_names, 0)\n",
    "X_new_names = ['test.npy']\n",
    "X_new_1= load_features(X_new_names, 1)\n",
    "X_new_2= load_features(X_new_names, 1)\n",
    "'''\n",
    "\n",
    "\n"
   ]
  },
  {
   "cell_type": "code",
   "execution_count": 328,
   "metadata": {
    "executionInfo": {
     "elapsed": 780,
     "status": "ok",
     "timestamp": 1608392324122,
     "user": {
      "displayName": "임정선",
      "photoUrl": "",
      "userId": "07763586888403287668"
     },
     "user_tz": -540
    },
    "id": "pjiuQhjLhwpG"
   },
   "outputs": [],
   "source": [
    "# scaling 후에 정해진 위치로 shift\n",
    "def normalization(pose) :\n",
    "    # lenght normalization\n",
    "    # torso 길이가 1이 되도록 scale param을 구하고 resize\n",
    "    fixed_torso_legnth = 1 # tosro 길이를 1로 설정\n",
    "    \n",
    "    torso_lengths = np.array([dist(pose.neck, pose.lhip)] +\n",
    "                                 [dist(pose.neck, pose.rhip)])\n",
    "    mean_torso = np.mean(torso_lengths)\n",
    "    scale = fixed_torso_legnth / mean_torso\n",
    "    \n",
    "    #print(\"\\n\\nScale\")\n",
    "    #print(scale)\n",
    "    \n",
    "    # shift\n",
    "    # 2, 2로 맞추기\n",
    "    set_x, set_y = 2, 2\n",
    "    x, y = pose.neck.x*scale, pose.neck.y*scale\n",
    "    \n",
    "    shift_x = ((set_x-x)*(set_x-x))**0.5\n",
    "    shift_y = ((set_y-y)*(set_y-y))**0.5\n",
    "    \n",
    "    if set_x < x : \n",
    "        shift_x = -shift_x\n",
    "    if set_y < y : \n",
    "        shift_y = -shift_y\n",
    "    \n",
    "    #print(\"SHIFT\")\n",
    "    #print(shift_x,shift_y)\n",
    "    #print(x + shift_x, y + shift_y)\n",
    "\n",
    "    return scale, shift_x, shift_y\n",
    "\n",
    "def dist(part1, part2):\n",
    "    return np.sqrt(np.square(part1.x - part2.x) + np.square(part1.y - part2.y))\n"
   ]
  },
  {
   "cell_type": "code",
   "execution_count": 329,
   "metadata": {
    "executionInfo": {
     "elapsed": 736,
     "status": "ok",
     "timestamp": 1608392311142,
     "user": {
      "displayName": "임정선",
      "photoUrl": "",
      "userId": "07763586888403287668"
     },
     "user_tz": -540
    },
    "id": "-KyTQcdKg2qc"
   },
   "outputs": [],
   "source": [
    "import matplotlib.pyplot as plt\n",
    "\n",
    "def plot_keypoints(x, y) :\n",
    "    plt.xlim([0,5])\n",
    "    plt.ylim([0,5])\n",
    "    plt.scatter(x, y)\n",
    "    plt.show()\n",
    "\n",
    "    plt.rcdefaults() \n",
    "    "
   ]
  },
  {
   "cell_type": "code",
   "execution_count": 330,
   "metadata": {},
   "outputs": [],
   "source": [
    "def cal_vector_change(x_array, y_array) : \n",
    "    result = np.array([])\n",
    "    \n",
    "    for t in range(1, len(x_array)) :\n",
    "        tmp = []\n",
    "        v = np.square(x_array[t-1] - x_array[t])\n",
    "        w = np.square(y_array[t-1] - y_array[t])\n",
    "\n",
    "        result = np.append(result, np.sum(np.sqrt(v+w)))\n",
    " \n",
    "    #print(result.shape)\n",
    "    return result"
   ]
  },
  {
   "cell_type": "code",
   "execution_count": 331,
   "metadata": {
    "colab": {
     "base_uri": "https://localhost:8080/",
     "height": 1000
    },
    "executionInfo": {
     "elapsed": 5350,
     "status": "error",
     "timestamp": 1608392411644,
     "user": {
      "displayName": "임정선",
      "photoUrl": "",
      "userId": "07763586888403287668"
     },
     "user_tz": -540
    },
    "id": "jxiWj0hog2qc",
    "outputId": "308746a3-3887-4e8d-d85a-c26eba10d011"
   },
   "outputs": [
    {
     "name": "stdout",
     "output_type": "stream",
     "text": [
      "squat_good_2.npy\n"
     ]
    },
    {
     "data": {
      "text/plain": [
       "array([[0.20260404, 0.11508071, 0.09973409, 0.26390977, 0.11941896,\n",
       "        0.33847961, 0.32263844, 0.19655838, 0.12808952, 0.48629291,\n",
       "        0.45551568, 0.22639188, 0.24071924, 0.4680585 , 0.21366903,\n",
       "        0.40241256, 0.36918526, 0.50736397, 0.21103478, 0.27937916,\n",
       "        0.12479038, 0.15318744, 0.11853155, 0.13906422, 0.11452889,\n",
       "        0.16851584, 0.10062254, 0.        , 0.03323938, 0.1244467 ,\n",
       "        0.13303335, 0.23296616, 0.19246951, 0.29981071, 0.48425532,\n",
       "        0.30353087, 0.17162347, 0.70129445, 0.32955807, 0.24892905,\n",
       "        0.22427474, 0.44130997, 0.45597103, 0.18184422, 0.33403514,\n",
       "        0.184994  , 0.24001653, 0.20768222, 0.16378627, 0.20998289,\n",
       "        0.24119657, 0.13225279]])"
      ]
     },
     "execution_count": 331,
     "metadata": {},
     "output_type": "execute_result"
    }
   ],
   "source": [
    "def calculate_change_keypoints(names, flag, mode='right'):\n",
    "    # 촬영 방향\n",
    "    # 오른쪽에서 촬영(오른쪽 관절만 관여)\n",
    "    if mode == 'right' :\n",
    "        PART_NAMES = ['neck', 'rshoulder', 'relbow', 'rwrist', 'rhip', 'rknee', 'rankle']\n",
    "    \n",
    "\n",
    "    # 왼쪽에서 촬영(왼쪽 관절만 관여)\n",
    "    elif mode == 'left' :\n",
    "        PART_NAMES = ['neck', 'lshoulder', 'lelbow', 'lwrist', 'lhip', 'lknee', 'lankle']\n",
    "\n",
    "    # 앞 또는 뒤에서 촬영(모든 관절이 관여)\n",
    "    else :\n",
    "        PART_NAMES = ['neck',  'rshoulder', 'relbow', 'rwrist', 'rhip', 'rknee', 'rankle',\n",
    "                      'lshoulder', 'lelbow', 'lwrist', 'lhip', 'lknee', 'lankle']\n",
    "    \n",
    "    result = []\n",
    "    for filename in names:\n",
    "        output = []\n",
    "        x_array = []\n",
    "        y_array = []\n",
    "\n",
    "        #tmp_np = np.load('poses_compressed/squat/'+filename)\n",
    "\n",
    "        if flag == 0: # flag 0 이면 기존 training, test \n",
    "            ps = load_ps('poses_compressed/squat/'+filename)\n",
    "\n",
    "        # (!! 수정필요 - 새로운 파일 돌릴 수 있도록)\n",
    "        else: # 1 flag 이면 새로 만든 값 \n",
    "            ps = load_ps('poses_compressed/squat/'+filename)\n",
    "        \n",
    "        poses = ps.poses\n",
    "        \n",
    "        for pose in poses : \n",
    "            x = []\n",
    "            y = []\n",
    "            \n",
    "            scale, shift_x, shift_y = normalization(pose)\n",
    "\n",
    "            for part in PART_NAMES :\n",
    "                # if getattr(pose, part).x < 0 : continue\n",
    "                #print(part)\n",
    "                #print(getattr(pose, part).x * scale + shift_x, getattr(pose, part).y * scale + shift_y)\n",
    "                x.append(getattr(pose, part).x * scale + shift_x)\n",
    "                y.append(getattr(pose, part).y * scale + shift_y)\n",
    "                  \n",
    "            x_array.append(x)\n",
    "            y_array.append(y)\n",
    "            #plot_keypoints(x, y)\n",
    "            #break\n",
    "            \n",
    "        x_array = np.array(x_array)\n",
    "        y_array = np.array(y_array)\n",
    "\n",
    "        #print(x_array.shape)\n",
    "        #output = np.array(output)\n",
    "        #output = output.transpose(1, 0, 2)  \n",
    "      \n",
    "        output = cal_vector_change(x_array, y_array)\n",
    "\n",
    "        result.append(output)\n",
    " \n",
    "    # print(\"LEN\")\n",
    "    # for l in result : \n",
    "    #  print(len(l))\n",
    "    # print(\"END\")\n",
    "    result = np.array(result)\n",
    "\n",
    "    # print(\"calculate\")\n",
    "    # print(result.shape)\n",
    "    return result\n",
    "\n",
    "print(X_train_names[0])\n",
    "calculate_change_keypoints([X_train_names[0]], 0, 'right')\n",
    "#calculate_change_keypoints(X_train_names, 0, 'right')"
   ]
  },
  {
   "cell_type": "code",
   "execution_count": 332,
   "metadata": {},
   "outputs": [
    {
     "name": "stdout",
     "output_type": "stream",
     "text": [
      "squat_good_10.npy\n"
     ]
    },
    {
     "name": "stderr",
     "output_type": "stream",
     "text": [
      "/Users/imjungsun/.pyenv/versions/urop_env/lib/python3.6/site-packages/ipykernel_launcher.py:67: VisibleDeprecationWarning: Creating an ndarray from ragged nested sequences (which is a list-or-tuple of lists-or-tuples-or ndarrays with different lengths or shapes) is deprecated. If you meant to do this, you must specify 'dtype=object' when creating the ndarray\n"
     ]
    }
   ],
   "source": [
    "def KNN_test(X_trains, X_test, train_angles, X_1, X_2, X_3):\n",
    "    global mode \n",
    "    \n",
    "    classifier = KNeighborsClassifier(n_neighbors = 3)\n",
    "    \n",
    "    predictions = []\n",
    "    train_d_vectors = calculate_change_keypoints(X_train_names, 0)\n",
    "    test_d_vector   = calculate_change_keypoints([X_test], 1)\n",
    "    \n",
    "    X_train_1, X_train_2, X_train_3 = train_angles\n",
    "    \n",
    "    # Store the average distance to good and bad training examples\n",
    "    good, bad = [[] for i in range(2)]\n",
    "    f0_good, f0_bad, f1_good, f1_bad, f2_good, f2_bad, f3_good, f3_bad = [[] for i in range(8)]\n",
    "\n",
    "    for idx, train_d_vector in enumerate(train_d_vectors): # X_test_names\n",
    "        # Store the average distance to good and bad training examples\n",
    "        dist  = utils.DTWDistance(train_d_vector, test_d_vector[0])\n",
    "        dist1 = utils.DTWDistance(X_train_1[idx], X_1)\n",
    "        dist2 = utils.DTWDistance(X_train_2[idx], X_2)\n",
    "        dist3 = utils.DTWDistance(X_train_3[idx], X_3)\n",
    "            \n",
    "        if y_train[idx]:\n",
    "            f0_good.append(dist)\n",
    "            f1_good.append(dist1)\n",
    "            f2_good.append(dist2)\n",
    "            f3_good.append(dist3)\n",
    "            \n",
    "        else:\n",
    "            f0_bad.append(dist)\n",
    "            f1_bad.append(dist1)\n",
    "            f2_bad.append(dist2)\n",
    "            f3_bad.append(dist3)\n",
    "        # if len(good) == 0 : good = [0]\n",
    "        # if len(bad) == 0 : bad = [0]\n",
    "    \n",
    "    if mode == 'ka' : \n",
    "        #print(\"KA\")\n",
    "        good.append([f0_good, f1_good, f2_good, f3_good])\n",
    "        bad.append([f0_bad, f1_bad, f2_bad, f3_bad])\n",
    "        \n",
    "        good = (np.array(good)).T\n",
    "        bad  = (np.array(bad)).T\n",
    "            \n",
    "        # keypoint with angle\n",
    "        good = np.reshape(good,(-1, 4))    \n",
    "        bad  = np.reshape(bad,(-1, 4))  \n",
    "    \n",
    "    if mode == 'a' : \n",
    "        #print(\"A\")\n",
    "        # only angles   \n",
    "        good.append([f1_good, f2_good, f3_good])\n",
    "        bad.append([f1_bad, f2_bad, f3_bad])   \n",
    "        \n",
    "        good = (np.array(good)).T\n",
    "        bad  = (np.array(bad)).T\n",
    "        \n",
    "        good = np.reshape(good,(-1, 3))    \n",
    "        bad  = np.reshape(bad,(-1, 3))  \n",
    "     \n",
    "    \n",
    "    if mode == 'k' : \n",
    "        #print(\"K\")\n",
    "        # only keypoints   \n",
    "        good.append([f0_good])\n",
    "        bad.append([f0_bad])\n",
    "    \n",
    "        # keypoints\n",
    "        good = np.reshape(good,(-1, 1))    \n",
    "        bad  = np.reshape(bad,(-1, 1))    \n",
    "    \n",
    "    \n",
    "    train_points  = np.append(good, bad, axis = 0)\n",
    "    train_labels  = np.append([1] * len(good), [0] * len(bad))\n",
    "    \n",
    "    classifier.fit(train_points, train_labels)\n",
    "    guesses = classifier.predict([[0] * len(good[0])])\n",
    "    \n",
    "    return guesses\n",
    "\n",
    "result = []\n",
    "\n",
    "for i in range(len(X_test_names)) :\n",
    "    print(X_test_names[i])\n",
    "    test_label = KNN_test(X_train_names, X_test_names[i], train_anlges, X_test_1[i], X_test_2[i], X_test_3[i]) # 기존 test data \n",
    "    result.append([X_test_names[i], test_label])"
   ]
  },
  {
   "cell_type": "code",
   "execution_count": 333,
   "metadata": {
    "executionInfo": {
     "elapsed": 22568,
     "status": "aborted",
     "timestamp": 1608391787533,
     "user": {
      "displayName": "임정선",
      "photoUrl": "",
      "userId": "07763586888403287668"
     },
     "user_tz": -540
    },
    "id": "2-AZ-S-tg2qd"
   },
   "outputs": [],
   "source": [
    "def print_result() : \n",
    "    '''\n",
    "    print(\"## TRAIN SET ##\")\n",
    "    for i in range(len(X_train_names)) : \n",
    "        print(X_train_names[i], end = \" \")\n",
    "        if y_train[i] == 1 :\n",
    "            print(\"Good\")\n",
    "        else :\n",
    "            print(\"Bad\")\n",
    "    ''' \n",
    "        \n",
    "    print(\"\\n## TEST RESULT ##\")\n",
    "    for r in result : \n",
    "        ori_result = r[0].split(\"_\")[1]\n",
    "\n",
    "        #print(r[0], end = \" \")\n",
    "        '''\n",
    "        if ori_result == 'good' :\n",
    "            print(\"GOOD TEST DATA, TEST RESULT :\", end = \" \")\n",
    "        else :\n",
    "            print(\"BAD  TEST DATA, TEST RESULT :\", end = \" \")\n",
    "        '''\n",
    "        if ori_result == 'good' and r[1] == 1 : \n",
    "            #print(\"Good\")  \n",
    "            return 1\n",
    "    \n",
    "        elif ori_result == 'bad' and r[1] == 0 : \n",
    "            #print(\"Bad\")\n",
    "            return 1\n",
    "        \n",
    "        elif ori_result == 'good' and r[1] == 0 : \n",
    "            #print(\"Bad\")  \n",
    "            return 0\n",
    "    \n",
    "        elif ori_result == 'bad' and r[1] == 1 : \n",
    "            #print(\"Good\")\n",
    "            return 0"
   ]
  },
  {
   "cell_type": "code",
   "execution_count": null,
   "metadata": {
    "executionInfo": {
     "elapsed": 22566,
     "status": "aborted",
     "timestamp": 1608391787534,
     "user": {
      "displayName": "임정선",
      "photoUrl": "",
      "userId": "07763586888403287668"
     },
     "user_tz": -540
    },
    "id": "f_n0vxbSg2qd"
   },
   "outputs": [],
   "source": []
  },
  {
   "cell_type": "code",
   "execution_count": null,
   "metadata": {
    "executionInfo": {
     "elapsed": 22563,
     "status": "aborted",
     "timestamp": 1608391787535,
     "user": {
      "displayName": "임정선",
      "photoUrl": "",
      "userId": "07763586888403287668"
     },
     "user_tz": -540
    },
    "id": "pmTZr47Qg2qd"
   },
   "outputs": [],
   "source": []
  },
  {
   "cell_type": "code",
   "execution_count": null,
   "metadata": {},
   "outputs": [],
   "source": []
  }
 ],
 "metadata": {
  "colab": {
   "collapsed_sections": [],
   "name": "KNN_DTW_All_Keypoints.ipynb",
   "provenance": []
  },
  "kernelspec": {
   "display_name": "Python 3",
   "language": "python",
   "name": "python3"
  },
  "language_info": {
   "codemirror_mode": {
    "name": "ipython",
    "version": 3
   },
   "file_extension": ".py",
   "mimetype": "text/x-python",
   "name": "python",
   "nbconvert_exporter": "python",
   "pygments_lexer": "ipython3",
   "version": "3.6.2"
  }
 },
 "nbformat": 4,
 "nbformat_minor": 1
}
