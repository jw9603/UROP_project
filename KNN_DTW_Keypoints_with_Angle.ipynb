{
 "cells": [
  {
   "cell_type": "markdown",
   "metadata": {
    "colab": {
     "base_uri": "https://localhost:8080/"
    },
    "executionInfo": {
     "elapsed": 668,
     "status": "ok",
     "timestamp": 1608391765601,
     "user": {
      "displayName": "임정선",
      "photoUrl": "",
      "userId": "07763586888403287668"
     },
     "user_tz": -540
    },
    "id": "T-3QV-1zg8F-",
    "outputId": "6a397ab4-9116-48cb-ad43-871e6627e52a"
   },
   "source": [
    "from google.colab import drive\n",
    "drive.mount(\"/content/drive\")\n",
    "\n",
    "%cd /content/drive/My\\ Drive/UROP/project/UROP_project/\n",
    "\n",
    "# 478"
   ]
  },
  {
   "cell_type": "code",
   "execution_count": 2,
   "metadata": {
    "executionInfo": {
     "elapsed": 941,
     "status": "ok",
     "timestamp": 1608391765879,
     "user": {
      "displayName": "임정선",
      "photoUrl": "",
      "userId": "07763586888403287668"
     },
     "user_tz": -540
    },
    "id": "NUe2L-0pg2qV"
   },
   "outputs": [],
   "source": [
    "import numpy as np\n",
    "import math\n",
    "import glob\n",
    "import utils\n",
    "\n",
    "from parse import load_ps\n",
    "from pprint import pprint\n",
    "from scipy.signal import medfilt\n",
    "from sklearn.model_selection import train_test_split\n",
    "from sklearn.neighbors import KNeighborsClassifier\n",
    "from sklearn.neighbors import DistanceMetric\n",
    "from sklearn.metrics import classification_report"
   ]
  },
  {
   "cell_type": "code",
   "execution_count": 29,
   "metadata": {
    "colab": {
     "base_uri": "https://localhost:8080/"
    },
    "executionInfo": {
     "elapsed": 936,
     "status": "ok",
     "timestamp": 1608391765879,
     "user": {
      "displayName": "임정선",
      "photoUrl": "",
      "userId": "07763586888403287668"
     },
     "user_tz": -540
    },
    "id": "hrnwPvp6g2qa",
    "outputId": "9977f1d8-a081-4c56-e297-45d4cecbdd88"
   },
   "outputs": [
    {
     "name": "stdout",
     "output_type": "stream",
     "text": [
      "array(['squat_bad_8.npy', 'squat_good_5.npy', 'squat_good_16.npy',\n",
      "       'squat_good_14.npy', 'squat_bad_4.npy', 'squat_good_6.npy',\n",
      "       'squat_good_10.npy', 'squat_good_11.npy'], dtype='<U17')\n",
      "array([0, 1, 1, 1, 0, 1, 1, 1])\n",
      "array(['squat_good_17.npy', 'squat_good_8.npy', 'squat_good_15.npy',\n",
      "       'squat_good_7.npy', 'squat_good_13.npy', 'squat_good_12.npy',\n",
      "       'squat_bad_7.npy', 'squat_good_9.npy'], dtype='<U17')\n",
      "array([1, 1, 1, 1, 1, 1, 0, 1])\n"
     ]
    }
   ],
   "source": [
    "files = utils.files_in_order('poses_compressed/squat')\n",
    "\n",
    "X_train_names, X_test_names = train_test_split(files, test_size=0.5, random_state=21)\n",
    "y_train = utils.get_labels(X_train_names)\n",
    "y_test = utils.get_labels(X_test_names)\n",
    "\n",
    "pprint(X_train_names)\n",
    "pprint(y_train)\n",
    "pprint(X_test_names)\n",
    "pprint(y_test)"
   ]
  },
  {
   "cell_type": "code",
   "execution_count": 30,
   "metadata": {},
   "outputs": [
    {
     "name": "stdout",
     "output_type": "stream",
     "text": [
      "['squat_bad_8.npy' 'squat_good_5.npy' 'squat_good_16.npy'\n",
      " 'squat_good_14.npy' 'squat_bad_4.npy' 'squat_good_6.npy'\n",
      " 'squat_good_10.npy' 'squat_good_11.npy']\n",
      "8\n"
     ]
    },
    {
     "data": {
      "text/plain": [
       "\"\\nX_train_1=load_features(X_train_names,0)\\nX_train_2=load_features(X_train_names,0)\\nX_test_1=load_features(X_test_names, 0)\\nX_test_2=load_features(X_test_names, 0)\\nX_new_names = ['test.npy']\\nX_new_1= load_features(X_new_names, 1)\\nX_new_2= load_features(X_new_names, 1)\\n\""
      ]
     },
     "execution_count": 30,
     "metadata": {},
     "output_type": "execute_result"
    }
   ],
   "source": [
    "def load_features(names, flag):\n",
    "    output1 = [] # List of upper arm torso angles\n",
    "    output2 = [] # List of upper_leg_under_leg_angle\n",
    "    output3 = [] # List of under_leg_ground_angle\n",
    "    \n",
    "    for filename in names:\n",
    "        if flag == 0: # flag 0 이면 기존 training, test \n",
    "            ps = load_ps('poses_compressed/squat/'+filename)\n",
    "        else: # 1 flag 이면 새로 만든 값\n",
    "            ps = load_ps('numpy/'+filename)\n",
    "        \n",
    "        poses = ps.poses\n",
    "\n",
    "        right_present = [1 for pose in poses \n",
    "                if pose.rankle.exists and pose.rknee.exists and pose.rhip.exists]\n",
    "        left_present = [1 for pose in poses\n",
    "                if pose.lankle.exists and pose.lknee.exists and pose.lhip.exists]\n",
    "        right_count = sum(right_present)\n",
    "        left_count = sum(left_present)\n",
    "        side = 'right' if right_count > left_count else 'left'\n",
    "\n",
    "        if side == 'right':\n",
    "            joints = [(pose.rankle, pose.rknee, pose.rhip, pose.neck) for pose in poses]\n",
    "        else:\n",
    "            joints = [(pose.lankle, pose.lknee, pose.lhip,pose.neck) for pose in poses]\n",
    "\n",
    "        # filter out data points where a part does not exist\n",
    "        joints = [joint for joint in joints if all(part.exists for part in joint)]\n",
    "        \n",
    "        torso_vecs = np.array([(joint[3].x - joint[2].x, joint[3].y - joint[2].y) for joint in joints])#몸통벡터\n",
    "        upper_leg_vecs = np.array([(joint[2].x - joint[1].x, joint[2].y - joint[1].y) for joint in joints])#허벅지 벡터\n",
    "        under_leg_vecs = np.array([(joint[1].x - joint[0].x, joint[1].y - joint[0].y) for joint in joints])#정강이 벡터\n",
    "        ground_vecs=np.array([((joint[0].x)+4,0) for joint in joints])#x축과 평행한 벡터(땅벡터)\n",
    "\n",
    "        torso_vecs = torso_vecs / np.expand_dims(np.linalg.norm(torso_vecs, axis=1), axis=1)\n",
    "        upper_leg_vecs = upper_leg_vecs / np.expand_dims(np.linalg.norm(upper_leg_vecs, axis=1), axis=1)\n",
    "        under_leg_vecs = under_leg_vecs / np.expand_dims(np.linalg.norm(under_leg_vecs, axis=1), axis=1)\n",
    "        ground_vecs = ground_vecs / np.expand_dims(np.linalg.norm(under_leg_vecs, axis=1), axis=1)\n",
    "\n",
    "        upper_leg_torso_angle = np.degrees(np.arccos(np.clip(np.sum(np.multiply(upper_leg_vecs, torso_vecs), axis=1), -1.0, 1.0)))\n",
    "        upper_arm_torso_angle_filtered = medfilt(medfilt(upper_leg_torso_angle, 5), 5)\n",
    "        \n",
    "        upper_leg_under_leg_angle = np.degrees(np.arccos(np.clip(np.sum(np.multiply(upper_leg_vecs, under_leg_vecs), axis=1), -1.0, 1.0)))\n",
    "        upper_leg_under_leg_angle_filtered = medfilt(medfilt(upper_leg_under_leg_angle, 5), 5)\n",
    "\n",
    "        under_leg_ground_angle = np.degrees(np.arccos(np.clip(np.sum(np.multiply(under_leg_vecs, ground_vecs), axis=1), -1.0, 1.0)))\n",
    "        under_leg_ground_angle_filtered = medfilt(medfilt(under_leg_ground_angle, 5), 5)\n",
    "\n",
    "        output1.append(upper_arm_torso_angle_filtered.tolist())\n",
    "        output2.append(upper_leg_under_leg_angle_filtered.tolist())\n",
    "        output3.append(under_leg_ground_angle_filtered.tolist())\n",
    "     \n",
    "        \n",
    "    return output1, output2, output3\n",
    "\n",
    "X_train_1, X_train_2, X_train_3 = load_features(X_train_names, 0)\n",
    "X_test_1, X_test_2, X_test_3 = load_features(X_test_names, 0)\n",
    "print(X_train_names)\n",
    "print(len(X_train_1))\n",
    "\n",
    "\n",
    "'''\n",
    "X_train_1=load_features(X_train_names,0)\n",
    "X_train_2=load_features(X_train_names,0)\n",
    "X_test_1=load_features(X_test_names, 0)\n",
    "X_test_2=load_features(X_test_names, 0)\n",
    "X_new_names = ['test.npy']\n",
    "X_new_1= load_features(X_new_names, 1)\n",
    "X_new_2= load_features(X_new_names, 1)\n",
    "'''\n",
    "\n",
    "\n"
   ]
  },
  {
   "cell_type": "code",
   "execution_count": 31,
   "metadata": {
    "executionInfo": {
     "elapsed": 780,
     "status": "ok",
     "timestamp": 1608392324122,
     "user": {
      "displayName": "임정선",
      "photoUrl": "",
      "userId": "07763586888403287668"
     },
     "user_tz": -540
    },
    "id": "pjiuQhjLhwpG"
   },
   "outputs": [],
   "source": [
    "# scaling 후에 정해진 위치로 shift\n",
    "def normalization(pose) :\n",
    "    # lenght normalization\n",
    "    # torso 길이가 1이 되도록 scale param을 구하고 resize\n",
    "    fixed_torso_legnth = 1 # tosro 길이를 1로 설정\n",
    "    \n",
    "    torso_lengths = np.array([dist(pose.neck, pose.lhip)] +\n",
    "                                 [dist(pose.neck, pose.rhip)])\n",
    "    mean_torso = np.mean(torso_lengths)\n",
    "    scale = fixed_torso_legnth / mean_torso\n",
    "    \n",
    "    #print(\"\\n\\nScale\")\n",
    "    #print(scale)\n",
    "    \n",
    "    # shift\n",
    "    # 2, 2로 맞추기\n",
    "    set_x, set_y = 2, 2\n",
    "    x, y = pose.neck.x*scale, pose.neck.y*scale\n",
    "    \n",
    "    shift_x = ((set_x-x)*(set_x-x))**0.5\n",
    "    shift_y = ((set_y-y)*(set_y-y))**0.5\n",
    "    \n",
    "    if set_x < x : \n",
    "        shift_x = -shift_x\n",
    "    if set_y < y : \n",
    "        shift_y = -shift_y\n",
    "    \n",
    "    #print(\"SHIFT\")\n",
    "    #print(shift_x,shift_y)\n",
    "    #print(x + shift_x, y + shift_y)\n",
    "\n",
    "    return scale, shift_x, shift_y\n",
    "\n",
    "def dist(part1, part2):\n",
    "    return np.sqrt(np.square(part1.x - part2.x) + np.square(part1.y - part2.y))\n"
   ]
  },
  {
   "cell_type": "code",
   "execution_count": 32,
   "metadata": {
    "executionInfo": {
     "elapsed": 736,
     "status": "ok",
     "timestamp": 1608392311142,
     "user": {
      "displayName": "임정선",
      "photoUrl": "",
      "userId": "07763586888403287668"
     },
     "user_tz": -540
    },
    "id": "-KyTQcdKg2qc"
   },
   "outputs": [],
   "source": [
    "import matplotlib.pyplot as plt\n",
    "\n",
    "def plot_keypoints(x, y) :\n",
    "    plt.xlim([0,5])\n",
    "    plt.ylim([0,5])\n",
    "    plt.scatter(x, y)\n",
    "    plt.show()\n",
    "\n",
    "    plt.rcdefaults() \n",
    "    "
   ]
  },
  {
   "cell_type": "code",
   "execution_count": 33,
   "metadata": {},
   "outputs": [],
   "source": [
    "def cal_vector_change(x_array, y_array) : \n",
    "    result = np.array([])\n",
    "    \n",
    "    for t in range(1, len(x_array)) :\n",
    "        tmp = []\n",
    "        v = np.square(x_array[t-1] - x_array[t])\n",
    "        w = np.square(y_array[t-1] - y_array[t])\n",
    "\n",
    "        result = np.append(result, np.sum(np.sqrt(v+w)))\n",
    " \n",
    "    #print(result.shape)\n",
    "    return result"
   ]
  },
  {
   "cell_type": "code",
   "execution_count": 34,
   "metadata": {
    "colab": {
     "base_uri": "https://localhost:8080/",
     "height": 1000
    },
    "executionInfo": {
     "elapsed": 5350,
     "status": "error",
     "timestamp": 1608392411644,
     "user": {
      "displayName": "임정선",
      "photoUrl": "",
      "userId": "07763586888403287668"
     },
     "user_tz": -540
    },
    "id": "jxiWj0hog2qc",
    "outputId": "308746a3-3887-4e8d-d85a-c26eba10d011"
   },
   "outputs": [
    {
     "name": "stdout",
     "output_type": "stream",
     "text": [
      "squat_bad_8.npy\n"
     ]
    },
    {
     "data": {
      "text/plain": [
       "array([[0.83301186, 0.49884838, 0.46586218, 0.30067925, 0.25277905,\n",
       "        0.29023592, 0.21320309, 0.18845771, 0.27356097, 0.25596851,\n",
       "        0.25021349, 0.28407496, 0.4016232 , 0.09631213, 0.08578329,\n",
       "        0.29350977, 0.17107942, 0.15610167, 0.1672464 , 0.11627831,\n",
       "        0.13827477, 0.24964049, 0.20762738, 0.28657717, 0.43425388,\n",
       "        0.38632344, 0.22475158, 0.17199153, 0.31794127, 0.24217511,\n",
       "        0.27734601, 0.61835204, 1.20635302, 0.45910641]])"
      ]
     },
     "execution_count": 34,
     "metadata": {},
     "output_type": "execute_result"
    }
   ],
   "source": [
    "def calculate_change_keypoints(names, flag, mode='right'):\n",
    "    # 촬영 방향\n",
    "    # 오른쪽에서 촬영(오른쪽 관절만 관여)\n",
    "    if mode == 'right' :\n",
    "        PART_NAMES = ['neck', 'rshoulder', 'relbow', 'rwrist', 'rhip', 'rknee', 'rankle']\n",
    "    \n",
    "\n",
    "    # 왼쪽에서 촬영(왼쪽 관절만 관여)\n",
    "    elif mode == 'left' :\n",
    "        PART_NAMES = ['neck', 'lshoulder', 'lelbow', 'lwrist', 'lhip', 'lknee', 'lankle']\n",
    "\n",
    "    # 앞 또는 뒤에서 촬영(모든 관절이 관여)\n",
    "    else :\n",
    "        PART_NAMES = ['neck',  'rshoulder', 'relbow', 'rwrist', 'rhip', 'rknee', 'rankle',\n",
    "                      'lshoulder', 'lelbow', 'lwrist', 'lhip', 'lknee', 'lankle']\n",
    "    \n",
    "    result = []\n",
    "    for filename in names:\n",
    "        output = []\n",
    "        x_array = []\n",
    "        y_array = []\n",
    "\n",
    "        #tmp_np = np.load('poses_compressed/squat/'+filename)\n",
    "\n",
    "        if flag == 0: # flag 0 이면 기존 training, test \n",
    "            ps = load_ps('poses_compressed/squat/'+filename)\n",
    "\n",
    "        # (!! 수정필요 - 새로운 파일 돌릴 수 있도록)\n",
    "        else: # 1 flag 이면 새로 만든 값 \n",
    "            ps = load_ps('poses_compressed/squat/'+filename)\n",
    "        \n",
    "        poses = ps.poses\n",
    "        \n",
    "        for pose in poses : \n",
    "            x = []\n",
    "            y = []\n",
    "            \n",
    "            scale, shift_x, shift_y = normalization(pose)\n",
    "\n",
    "            for part in PART_NAMES :\n",
    "                # if getattr(pose, part).x < 0 : continue\n",
    "                #print(part)\n",
    "                #print(getattr(pose, part).x * scale + shift_x, getattr(pose, part).y * scale + shift_y)\n",
    "                x.append(getattr(pose, part).x * scale + shift_x)\n",
    "                y.append(getattr(pose, part).y * scale + shift_y)\n",
    "                  \n",
    "            x_array.append(x)\n",
    "            y_array.append(y)\n",
    "            #plot_keypoints(x, y)\n",
    "            #break\n",
    "            \n",
    "        x_array = np.array(x_array)\n",
    "        y_array = np.array(y_array)\n",
    "\n",
    "        #print(x_array.shape)\n",
    "        #output = np.array(output)\n",
    "        #output = output.transpose(1, 0, 2)  \n",
    "      \n",
    "        output = cal_vector_change(x_array, y_array)\n",
    "\n",
    "        result.append(output)\n",
    " \n",
    "    # print(\"LEN\")\n",
    "    # for l in result : \n",
    "    #  print(len(l))\n",
    "    # print(\"END\")\n",
    "    result = np.array(result)\n",
    "\n",
    "    # print(\"calculate\")\n",
    "    # print(result.shape)\n",
    "    return result\n",
    "\n",
    "print(X_train_names[0])\n",
    "calculate_change_keypoints([X_train_names[0]], 0, 'right')\n",
    "#calculate_change_keypoints(X_train_names, 0, 'right')"
   ]
  },
  {
   "cell_type": "code",
   "execution_count": 35,
   "metadata": {
    "executionInfo": {
     "elapsed": 22571,
     "status": "aborted",
     "timestamp": 1608391787532,
     "user": {
      "displayName": "임정선",
      "photoUrl": "",
      "userId": "07763586888403287668"
     },
     "user_tz": -540
    },
    "id": "k7DcPT4Tg2qc"
   },
   "outputs": [
    {
     "name": "stdout",
     "output_type": "stream",
     "text": [
      "squat_good_17.npy\n",
      "458.12374967122435 458.68038070089176\n",
      "squat_good_8.npy\n",
      "90.19801411140207 90.77855992820905\n",
      "squat_good_15.npy\n"
     ]
    },
    {
     "name": "stderr",
     "output_type": "stream",
     "text": [
      "/Users/imjungsun/.pyenv/versions/urop_env/lib/python3.6/site-packages/ipykernel_launcher.py:67: VisibleDeprecationWarning: Creating an ndarray from ragged nested sequences (which is a list-or-tuple of lists-or-tuples-or ndarrays with different lengths or shapes) is deprecated. If you meant to do this, you must specify 'dtype=object' when creating the ndarray\n"
     ]
    },
    {
     "name": "stdout",
     "output_type": "stream",
     "text": [
      "97.25489535024144 97.68067604509845\n",
      "squat_good_7.npy\n",
      "89.85709169215558 90.25674482101637\n",
      "squat_good_13.npy\n",
      "544.3654779566743 544.9764932085488\n",
      "squat_good_12.npy\n",
      "517.9444594523251 517.0766040243949\n",
      "squat_bad_7.npy\n",
      "184.99402829139308 185.16690046520063\n",
      "squat_good_9.npy\n",
      "93.72199105280822 93.98097572800174\n"
     ]
    }
   ],
   "source": [
    "def KNN_with_keypoints(X_trains, X_test, X_1, X_2, X_3):\n",
    "    predictions = []\n",
    "    train_d_vectors = calculate_change_keypoints(X_train_names, 0)\n",
    "    test_d_vector   = calculate_change_keypoints([X_test], 1)\n",
    "    \n",
    "    # Store the average distance to good and bad training examples\n",
    "    good, bad = [[] for i in range(2)]\n",
    "    f1_good, f1_bad, f2_good, f2_bad, f3_good, f3_bad = [[] for i in range(6)]\n",
    "\n",
    "    for idx, train_d_vector in enumerate(train_d_vectors): # X_test_names\n",
    "        # Store the average distance to good and bad training examples\n",
    "        dist = utils.DTWDistance(train_d_vector, test_d_vector[0])\n",
    "        dist1 = utils.DTWDistance(X_train_1[i], X_1)\n",
    "        dist2 = utils.DTWDistance(X_train_2[i], X_2)\n",
    "        dist3 = utils.DTWDistance(X_train_3[i], X_3)\n",
    "            \n",
    "        if y_train[idx]:\n",
    "            good.append(dist)\n",
    "            f1_good.append(dist1)\n",
    "            f2_good.append(dist2)\n",
    "            f3_good.append(dist3)\n",
    "            \n",
    "        else:\n",
    "            bad.append(dist)\n",
    "            f1_bad.append(dist1)\n",
    "            f2_bad.append(dist2)\n",
    "            f3_bad.append(dist3)\n",
    "              \n",
    "        # if len(good) == 0 : good = [0]\n",
    "        # if len(bad) == 0 : bad = [0]\n",
    "        \n",
    "    # 평가시 Train에 good, bad를 모두 넣어줘야함 \n",
    "    good_score = np.mean(good) + np.mean(f1_good) + np.mean(f2_good) + np.mean(f3_good)\n",
    "    bad_score  = np.mean(bad) + np.mean(f1_bad) + np.mean(f2_bad) + np.mean(f3_bad)\n",
    "    \n",
    "    print(good_score, bad_score)\n",
    "    \n",
    "    #print(good_score, bad_score)\n",
    "    # dist가 크면 유사도가 적다\n",
    "    # bad score가 크면 good\n",
    "    if good_score < bad_score:\n",
    "        return 1\n",
    "    else:\n",
    "        return 0\n",
    "    \n",
    "result = []\n",
    "for i in range(len(X_test_names)) :\n",
    "    print(X_test_names[i])\n",
    "    test_label = KNN_with_keypoints(X_train_names, X_test_names[i], X_test_1[i], X_test_2[i], X_test_3[i]) # 기존 test data \n",
    "    #print(test_label)\n",
    "    \n",
    "    result.append([X_test_names[i], test_label])"
   ]
  },
  {
   "cell_type": "code",
   "execution_count": 36,
   "metadata": {
    "executionInfo": {
     "elapsed": 22568,
     "status": "aborted",
     "timestamp": 1608391787533,
     "user": {
      "displayName": "임정선",
      "photoUrl": "",
      "userId": "07763586888403287668"
     },
     "user_tz": -540
    },
    "id": "2-AZ-S-tg2qd"
   },
   "outputs": [
    {
     "name": "stdout",
     "output_type": "stream",
     "text": [
      "## TRAIN SET ##\n",
      "squat_bad_8.npy Bad\n",
      "squat_good_5.npy Good\n",
      "squat_good_16.npy Good\n",
      "squat_good_14.npy Good\n",
      "squat_bad_4.npy Bad\n",
      "squat_good_6.npy Good\n",
      "squat_good_10.npy Good\n",
      "squat_good_11.npy Good\n",
      "\n",
      "## TEST RESULT ##\n",
      "squat_good_17.npy Good Right\n",
      "squat_good_8.npy Good Right\n",
      "squat_good_15.npy Good Right\n",
      "squat_good_7.npy Good Right\n",
      "squat_good_13.npy Good Right\n",
      "squat_good_12.npy Bad Wrong\n",
      "squat_bad_7.npy Good Wrong\n",
      "squat_good_9.npy Good Right\n"
     ]
    }
   ],
   "source": [
    "print(\"## TRAIN SET ##\")\n",
    "for i in range(len(X_train_names)) : \n",
    "    print(X_train_names[i], end = \" \")\n",
    "    if y_train[i] == 1 :\n",
    "        print(\"Good\")\n",
    "    else :\n",
    "        print(\"Bad\")\n",
    "        \n",
    "        \n",
    "print(\"\\n## TEST RESULT ##\")\n",
    "for r in result : \n",
    "    ori_result = r[0].split(\"_\")[1]\n",
    "    \n",
    "    print(r[0], end = \" \")\n",
    "    if r[1] == 1 :\n",
    "        print(\"Good\", end = \" \")\n",
    "    else :\n",
    "        print(\"Bad\", end = \" \")\n",
    "\n",
    "    if ori_result == 'good' and r[1] == 1 : \n",
    "        print(\"Right\")  \n",
    "    \n",
    "    elif ori_result == 'bad' and r[1] == 0 : \n",
    "        print(\"Right\")\n",
    "        \n",
    "    else : print(\"Wrong\")"
   ]
  },
  {
   "cell_type": "code",
   "execution_count": null,
   "metadata": {
    "executionInfo": {
     "elapsed": 22566,
     "status": "aborted",
     "timestamp": 1608391787534,
     "user": {
      "displayName": "임정선",
      "photoUrl": "",
      "userId": "07763586888403287668"
     },
     "user_tz": -540
    },
    "id": "f_n0vxbSg2qd"
   },
   "outputs": [],
   "source": []
  },
  {
   "cell_type": "code",
   "execution_count": null,
   "metadata": {
    "executionInfo": {
     "elapsed": 22563,
     "status": "aborted",
     "timestamp": 1608391787535,
     "user": {
      "displayName": "임정선",
      "photoUrl": "",
      "userId": "07763586888403287668"
     },
     "user_tz": -540
    },
    "id": "pmTZr47Qg2qd"
   },
   "outputs": [],
   "source": []
  }
 ],
 "metadata": {
  "colab": {
   "collapsed_sections": [],
   "name": "KNN_DTW_All_Keypoints.ipynb",
   "provenance": []
  },
  "kernelspec": {
   "display_name": "Python 3",
   "language": "python",
   "name": "python3"
  },
  "language_info": {
   "codemirror_mode": {
    "name": "ipython",
    "version": 3
   },
   "file_extension": ".py",
   "mimetype": "text/x-python",
   "name": "python",
   "nbconvert_exporter": "python",
   "pygments_lexer": "ipython3",
   "version": "3.6.2"
  }
 },
 "nbformat": 4,
 "nbformat_minor": 1
}
