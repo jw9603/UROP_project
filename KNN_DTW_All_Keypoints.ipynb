{
 "cells": [
  {
   "cell_type": "code",
   "execution_count": 1,
   "metadata": {},
   "outputs": [],
   "source": [
    "import numpy as np\n",
    "import math\n",
    "import glob\n",
    "import utils\n",
    "\n",
    "from parse import load_ps\n",
    "from pprint import pprint\n",
    "from scipy.signal import medfilt\n",
    "from sklearn.model_selection import train_test_split\n",
    "from sklearn.neighbors import KNeighborsClassifier\n",
    "from sklearn.neighbors import DistanceMetric\n",
    "from sklearn.metrics import classification_report"
   ]
  },
  {
   "cell_type": "code",
   "execution_count": 2,
   "metadata": {},
   "outputs": [
    {
     "name": "stdout",
     "output_type": "stream",
     "text": [
      "16\n",
      "array(['bicep_bad_10.npy', 'bicep_bad_3.npy', 'bicep_good_6.npy',\n",
      "       'bicep_bad_5.npy', 'bicep_bad_8.npy', 'bicep_good_1.npy',\n",
      "       'bicep_good_3.npy', 'bicep_bad_4.npy', 'bicep_bad_7.npy'],\n",
      "      dtype='<U16')\n",
      "array([0, 0, 1, 0, 0, 1, 1, 0, 0])\n",
      "array(['bicep_bad_1.npy', 'bicep_bad_2.npy', 'bicep_bad_6.npy',\n",
      "       'bicep_good_5.npy', 'bicep_good_4.npy', 'bicep_good_2.npy',\n",
      "       'bicep_bad_9.npy'], dtype='<U16')\n",
      "array([0, 0, 0, 1, 1, 1, 0])\n"
     ]
    }
   ],
   "source": [
    "files = utils.files_in_order('poses_compressed/bicep')\n",
    "X_train_names, X_test_names = train_test_split(files[:16], test_size=0.4, random_state=42)\n",
    "y_train = utils.get_labels(X_train_names)\n",
    "y_test = utils.get_labels(X_test_names)\n",
    "\n",
    "pprint(X_train_names)\n",
    "pprint(y_train)\n",
    "pprint(X_test_names)\n",
    "pprint(y_test)"
   ]
  },
  {
   "cell_type": "code",
   "execution_count": 4,
   "metadata": {},
   "outputs": [],
   "source": [
    "def cal_vector_change(array) : \n",
    "    result = np.array([])\n",
    "    times = array.shape[0]\n",
    "    \n",
    "    x_array = array[:,:,0]\n",
    "    y_array = array[:,:,1]\n",
    "    \n",
    "    for t in range(1, times) :\n",
    "        tmp = []\n",
    "        v = np.sum(np.square(x_array[t-1] - x_array[t]))\n",
    "        w = np.sum(np.square(y_array[t-1] - y_array[t]))\n",
    "\n",
    "        result = np.append(result, np.sqrt(v+w))\n",
    " \n",
    "    #print(result.shape)\n",
    "    return result"
   ]
  },
  {
   "cell_type": "code",
   "execution_count": 22,
   "metadata": {},
   "outputs": [],
   "source": [
    "def calculate_change_keypoints(names, flag):\n",
    "    PART_NAMES = ['neck',  'rshoulder', 'relbow', 'rwrist', 'rhip', 'rknee', 'rankle',\n",
    "                 'lshoulder', 'lelbow', 'lwrist', 'lhip', 'lknee', 'lankle']\n",
    "    \n",
    "    result = np.array([])\n",
    "    for filename in names:\n",
    "        output = []\n",
    "        if flag == 0: # flag 0 이면 기존 training, test \n",
    "            ps = load_ps('poses_compressed/bicep/'+filename)\n",
    "        else: # 1 flag 이면 새로 만든 값\n",
    "            ps = load_ps('numpy/'+filename)\n",
    "        \n",
    "        poses = ps.poses\n",
    "        \n",
    "        for part in PART_NAMES :\n",
    "            tmp = []\n",
    "            for pose in poses : \n",
    "                tmp.append([getattr(pose, part).x, getattr(pose, part).y])\n",
    "\n",
    "            output.append(tmp)\n",
    "        \n",
    "        output = np.array(output)\n",
    "        output = output.transpose(1, 0, 2)    \n",
    "        output = cal_vector_change(np.array(output))\n",
    "    \n",
    "    result = np.append(result, output)\n",
    "    return result.reshape(len(names), -1)   \n",
    "#calculate_change_keypoints(X_train_names, 0)"
   ]
  },
  {
   "cell_type": "code",
   "execution_count": 23,
   "metadata": {},
   "outputs": [
    {
     "name": "stdout",
     "output_type": "stream",
     "text": [
      "1\n"
     ]
    }
   ],
   "source": [
    "def KNN_with_keypoints(X_trains, X_test):\n",
    "    predictions = []\n",
    "    train_d_vectors = calculate_change_keypoints(X_train_names, 0)\n",
    "    test_d_vector   = calculate_change_keypoints([X_test], 1)\n",
    "    \n",
    "    good, bad = [[] for i in range(2)]\n",
    "\n",
    "    for idx, train_d_vector in enumerate(train_d_vectors): # X_test_names\n",
    "        # Store the average distance to good and bad training examples\n",
    "        test_d_vector = test_d_vector.reshape(-1, 1)\n",
    "        \n",
    "        dist = utils.DTWDistance(train_d_vector, test_d_vector)\n",
    "        \n",
    "        if y_train[idx]:\n",
    "            good.append(dist)\n",
    "        else:\n",
    "            bad.append(dist)\n",
    "             \n",
    "    good_score = np.mean(good)\n",
    "    bad_score  = np.mean(bad)\n",
    "\n",
    "    if good_score < bad_score:\n",
    "        return 1\n",
    "    else:\n",
    "        return 0\n",
    "    \n",
    "X_test_names = ['test.npy']\n",
    "for X_test_name in X_test_names :\n",
    "    print(KNN_with_keypoints(X_test_names, X_test_name)) # 기존 test data "
   ]
  }
 ],
 "metadata": {
  "kernelspec": {
   "display_name": "Python 3",
   "language": "python",
   "name": "python3"
  },
  "language_info": {
   "codemirror_mode": {
    "name": "ipython",
    "version": 3
   },
   "file_extension": ".py",
   "mimetype": "text/x-python",
   "name": "python",
   "nbconvert_exporter": "python",
   "pygments_lexer": "ipython3",
   "version": "3.6.2"
  }
 },
 "nbformat": 4,
 "nbformat_minor": 2
}
