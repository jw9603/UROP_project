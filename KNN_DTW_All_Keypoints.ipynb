{
 "cells": [
  {
   "cell_type": "markdown",
   "metadata": {
    "colab": {
     "base_uri": "https://localhost:8080/"
    },
    "executionInfo": {
     "elapsed": 668,
     "status": "ok",
     "timestamp": 1608391765601,
     "user": {
      "displayName": "임정선",
      "photoUrl": "",
      "userId": "07763586888403287668"
     },
     "user_tz": -540
    },
    "id": "T-3QV-1zg8F-",
    "outputId": "6a397ab4-9116-48cb-ad43-871e6627e52a"
   },
   "source": [
    "from google.colab import drive\n",
    "drive.mount(\"/content/drive\")\n",
    "\n",
    "%cd /content/drive/My\\ Drive/UROP/project/UROP_project/\n",
    "\n",
    "# 478"
   ]
  },
  {
   "cell_type": "code",
   "execution_count": 43,
   "metadata": {
    "executionInfo": {
     "elapsed": 941,
     "status": "ok",
     "timestamp": 1608391765879,
     "user": {
      "displayName": "임정선",
      "photoUrl": "",
      "userId": "07763586888403287668"
     },
     "user_tz": -540
    },
    "id": "NUe2L-0pg2qV"
   },
   "outputs": [],
   "source": [
    "import numpy as np\n",
    "import math\n",
    "import glob\n",
    "import utils\n",
    "\n",
    "from parse import load_ps\n",
    "from pprint import pprint\n",
    "from scipy.signal import medfilt\n",
    "from sklearn.model_selection import train_test_split\n",
    "from sklearn.neighbors import KNeighborsClassifier\n",
    "from sklearn.neighbors import DistanceMetric\n",
    "from sklearn.metrics import classification_report"
   ]
  },
  {
   "cell_type": "code",
   "execution_count": 51,
   "metadata": {
    "colab": {
     "base_uri": "https://localhost:8080/"
    },
    "executionInfo": {
     "elapsed": 936,
     "status": "ok",
     "timestamp": 1608391765879,
     "user": {
      "displayName": "임정선",
      "photoUrl": "",
      "userId": "07763586888403287668"
     },
     "user_tz": -540
    },
    "id": "hrnwPvp6g2qa",
    "outputId": "9977f1d8-a081-4c56-e297-45d4cecbdd88"
   },
   "outputs": [
    {
     "name": "stdout",
     "output_type": "stream",
     "text": [
      "array(['squat_bad_4.npy', 'squat_good_7.npy', 'squat_good_13.npy',\n",
      "       'squat_good_11.npy', 'squat_good_9.npy', 'squat_good_14.npy',\n",
      "       'squat_good_16.npy', 'squat_good_5.npy'], dtype='<U17')\n",
      "array([0, 1, 1, 1, 1, 1, 1, 1])\n",
      "array(['squat_good_6.npy', 'squat_good_8.npy', 'squat_good_17.npy',\n",
      "       'squat_good_12.npy', 'squat_bad_7.npy', 'squat_good_10.npy',\n",
      "       'squat_bad_8.npy', 'squat_good_15.npy'], dtype='<U17')\n",
      "array([1, 1, 1, 1, 0, 1, 0, 1])\n"
     ]
    }
   ],
   "source": [
    "files = utils.files_in_order('poses_compressed/squat')\n",
    "\n",
    "X_train_names, X_test_names = train_test_split(files, test_size=0.5, random_state=131)\n",
    "y_train = utils.get_labels(X_train_names)\n",
    "y_test = utils.get_labels(X_test_names)\n",
    "\n",
    "pprint(X_train_names)\n",
    "pprint(y_train)\n",
    "pprint(X_test_names)\n",
    "pprint(y_test)"
   ]
  },
  {
   "cell_type": "code",
   "execution_count": 52,
   "metadata": {
    "executionInfo": {
     "elapsed": 780,
     "status": "ok",
     "timestamp": 1608392324122,
     "user": {
      "displayName": "임정선",
      "photoUrl": "",
      "userId": "07763586888403287668"
     },
     "user_tz": -540
    },
    "id": "pjiuQhjLhwpG"
   },
   "outputs": [],
   "source": [
    "# scaling 후에 정해진 위치로 shift\n",
    "def normalization(pose) :\n",
    "    # lenght normalization\n",
    "    # torso 길이가 1이 되도록 scale param을 구하고 resize\n",
    "    fixed_torso_legnth = 1 # tosro 길이를 1로 설정\n",
    "    \n",
    "    torso_lengths = np.array([dist(pose.neck, pose.lhip)] +\n",
    "                                 [dist(pose.neck, pose.rhip)])\n",
    "    mean_torso = np.mean(torso_lengths)\n",
    "    scale = fixed_torso_legnth / mean_torso\n",
    "    \n",
    "    #print(\"\\n\\nScale\")\n",
    "    #print(scale)\n",
    "    \n",
    "    # shift\n",
    "    # 2, 2로 맞추기\n",
    "    set_x, set_y = 2, 2\n",
    "    x, y = pose.neck.x*scale, pose.neck.y*scale\n",
    "    \n",
    "    shift_x = ((set_x-x)*(set_x-x))**0.5\n",
    "    shift_y = ((set_y-y)*(set_y-y))**0.5\n",
    "    \n",
    "    if set_x < x : \n",
    "        shift_x = -shift_x\n",
    "    if set_y < y : \n",
    "        shift_y = -shift_y\n",
    "    \n",
    "    #print(\"SHIFT\")\n",
    "    #print(shift_x,shift_y)\n",
    "    #print(x + shift_x, y + shift_y)\n",
    "\n",
    "    return scale, shift_x, shift_y\n",
    "\n",
    "def dist(part1, part2):\n",
    "    return np.sqrt(np.square(part1.x - part2.x) + np.square(part1.y - part2.y))\n"
   ]
  },
  {
   "cell_type": "code",
   "execution_count": 53,
   "metadata": {
    "executionInfo": {
     "elapsed": 736,
     "status": "ok",
     "timestamp": 1608392311142,
     "user": {
      "displayName": "임정선",
      "photoUrl": "",
      "userId": "07763586888403287668"
     },
     "user_tz": -540
    },
    "id": "-KyTQcdKg2qc"
   },
   "outputs": [],
   "source": [
    "import matplotlib.pyplot as plt\n",
    "\n",
    "def plot_keypoints(x, y) :\n",
    "    plt.rcParams[\"figure.figsize\"] = (3,3)\n",
    "    \n",
    "    plt.xlim([0,6])\n",
    "    plt.ylim([0,6])\n",
    "    plt.scatter(x, y)\n",
    "    plt.show()\n",
    "\n",
    "    plt.rcdefaults() \n",
    "    "
   ]
  },
  {
   "cell_type": "code",
   "execution_count": 54,
   "metadata": {},
   "outputs": [],
   "source": [
    "def cal_vector_change(x_array, y_array) : \n",
    "    result = np.array([])\n",
    "    \n",
    "    for t in range(1, len(x_array)) :\n",
    "        tmp = []\n",
    "        v = np.square(x_array[t-1] - x_array[t])\n",
    "        w = np.square(y_array[t-1] - y_array[t])\n",
    "\n",
    "        result = np.append(result, np.sum(np.sqrt(v+w)))\n",
    " \n",
    "    #print(result.shape)\n",
    "    return result"
   ]
  },
  {
   "cell_type": "code",
   "execution_count": 55,
   "metadata": {
    "colab": {
     "base_uri": "https://localhost:8080/",
     "height": 1000
    },
    "executionInfo": {
     "elapsed": 5350,
     "status": "error",
     "timestamp": 1608392411644,
     "user": {
      "displayName": "임정선",
      "photoUrl": "",
      "userId": "07763586888403287668"
     },
     "user_tz": -540
    },
    "id": "jxiWj0hog2qc",
    "outputId": "308746a3-3887-4e8d-d85a-c26eba10d011"
   },
   "outputs": [
    {
     "name": "stdout",
     "output_type": "stream",
     "text": [
      "squat_bad_4.npy\n",
      "(8,)\n"
     ]
    },
    {
     "name": "stderr",
     "output_type": "stream",
     "text": [
      "/Users/imjungsun/.pyenv/versions/urop_env/lib/python3.6/site-packages/ipykernel_launcher.py:72: VisibleDeprecationWarning: Creating an ndarray from ragged nested sequences (which is a list-or-tuple of lists-or-tuples-or ndarrays with different lengths or shapes) is deprecated. If you meant to do this, you must specify 'dtype=object' when creating the ndarray\n"
     ]
    },
    {
     "data": {
      "text/plain": [
       "array([array([0.31999641, 0.23306684, 0.47570594, 0.74651449, 0.36110014,\n",
       "       0.3887629 , 0.61483883, 0.47725717, 0.1303236 , 0.2759021 ,\n",
       "       0.33057287, 0.47105207, 0.21982215, 0.2753696 , 0.3302783 ,\n",
       "       0.34935122, 0.43017862, 0.301246  , 0.20025031, 0.21968127,\n",
       "       0.04629024, 0.20245024, 0.32610319, 0.3590417 , 0.19921177,\n",
       "       0.3898952 , 0.44534267, 0.55047272, 0.43358615, 0.30309496,\n",
       "       0.31746153, 0.48338356, 0.37507213, 0.21653519, 1.24066278,\n",
       "       1.29199182, 0.3351493 , 0.42763831, 0.60004398, 0.24803622,\n",
       "       0.16997343, 0.06053337, 0.19253187, 0.2634675 ]),\n",
       "       array([0.25626787, 0.29660416, 0.26835613, 0.20754207, 0.11111432,\n",
       "       0.52031973, 0.36614922, 0.75049154, 0.3681233 , 0.57100982,\n",
       "       0.30102785, 0.26799525, 0.15538296, 0.42836036, 0.19944582,\n",
       "       0.32131047, 0.10271608, 0.36794502, 0.40651869, 0.26924676,\n",
       "       0.18470168, 0.36263136, 0.09118946, 0.08535037, 0.31594329,\n",
       "       0.22921109, 0.18062867, 0.2806716 , 0.19331895, 0.34991389,\n",
       "       0.34737182, 0.20885604, 0.26396624, 0.54433309, 0.30970876,\n",
       "       0.35603953, 0.15353657, 0.81690241, 0.15965961, 0.2092375 ,\n",
       "       0.18263194, 0.24328682, 0.23860944, 0.17337322, 0.24011458,\n",
       "       0.24257443, 0.17237461, 0.26299327]),\n",
       "       array([0.21522523, 0.1124116 , 0.09815901, 0.20867271, 0.20556972,\n",
       "       0.03702782, 0.20877098, 0.27509787, 0.14973637, 0.18835115,\n",
       "       0.21735722, 0.31541704, 0.33452764, 0.16128058, 0.94719515,\n",
       "       0.26231921, 0.53638905, 0.22635355, 0.38100211, 0.31862042,\n",
       "       0.20288644, 0.26259887, 0.26689844, 0.18051933, 0.20080013,\n",
       "       0.2787225 , 0.2223596 , 0.18993473, 0.23524771, 0.17333146,\n",
       "       0.1493738 , 0.1493738 , 0.28739059, 0.25021387, 0.25900221,\n",
       "       0.16117187, 0.13428335, 0.29326616, 0.54285627, 0.3060978 ,\n",
       "       0.19314394, 0.20711748, 0.55082056, 0.32586767, 0.37912187,\n",
       "       0.23723017, 0.75015171, 0.14382203, 0.14737702, 0.21464292,\n",
       "       0.24351825, 0.05034668]),\n",
       "       array([0.14936776, 0.28832115, 0.21146005, 0.18172643, 0.12837268,\n",
       "       0.15625084, 0.42097911, 0.23478793, 0.11803442, 0.8474934 ,\n",
       "       0.63259448, 0.36643553, 0.2810487 , 0.34554436, 0.30627551,\n",
       "       0.20846219, 0.25270207, 0.24834804, 0.28617549, 0.12313784,\n",
       "       0.26903324, 0.28415277, 0.03127973, 0.28986163, 0.2869557 ,\n",
       "       0.26438303, 0.23734981, 0.16315723, 0.38696741, 0.4328459 ,\n",
       "       0.3220961 , 0.37555028, 0.28879184, 0.3430343 , 0.77281278,\n",
       "       0.17036048, 0.20419037, 0.1992626 , 0.20217675, 0.16214802,\n",
       "       0.16001851, 0.        , 0.27527865, 0.06193827, 0.16871741,\n",
       "       0.26084313]),\n",
       "       array([0.40058055, 0.2563177 , 0.29216972, 0.23233686, 0.19157049,\n",
       "       0.2221977 , 0.57778824, 0.23428087, 0.30945551, 0.13685631,\n",
       "       0.244314  , 0.34820308, 0.33646625, 0.20892618, 0.33474214,\n",
       "       0.23994703, 0.21584976, 0.1684659 , 0.32982691, 0.41360431,\n",
       "       0.21409528, 0.09634881, 0.07645347, 0.15160217, 0.24839491,\n",
       "       0.10184233, 0.18117189, 0.42804999, 0.44402102, 0.13766435,\n",
       "       0.21038789, 0.2599616 , 0.87402446, 0.34433243, 0.57331791,\n",
       "       0.35787941, 0.77539143, 0.43576695, 0.09216436, 0.1165121 ,\n",
       "       0.11223317, 0.15662888, 0.04774584, 0.17676116, 0.07166074,\n",
       "       0.25232347, 0.03446789]),\n",
       "       array([0.27509787, 0.14973637, 0.18835115, 0.21735722, 0.31541704,\n",
       "       0.33452764, 0.16128058, 0.94719515, 0.26231921, 0.53638905,\n",
       "       0.22635355, 0.38100211, 0.31862042, 0.20288644, 0.26259887,\n",
       "       0.26689844, 0.18051933, 0.20080013, 0.2787225 , 0.2223596 ,\n",
       "       0.18993473, 0.23524771, 0.17333146, 0.1493738 , 0.1493738 ,\n",
       "       0.28739059, 0.25021387, 0.25900221, 0.16117187, 0.13428335,\n",
       "       0.29326616, 0.54285627, 0.3060978 , 0.19314394, 0.20711748,\n",
       "       0.55082056, 0.32586767, 0.37912187, 0.23723017, 0.75015171,\n",
       "       0.14382203, 0.14737702, 0.21464292, 0.24351825, 0.05034668]),\n",
       "       array([0.20260404, 0.07872595, 0.06337933, 0.26390977, 0.11941896,\n",
       "       0.33847961, 0.32263844, 0.19655838, 0.12808952, 0.48629291,\n",
       "       0.41990534, 0.23073368, 0.24071924, 0.4680585 , 0.21366903,\n",
       "       0.40241256, 0.36918526, 0.50736397, 0.22782745, 0.20884996,\n",
       "       0.12479038, 0.15318744, 0.11853155, 0.13906422, 0.11452889,\n",
       "       0.16851584, 0.10062254, 0.        , 0.03323938, 0.1244467 ,\n",
       "       0.13303335, 0.23296616, 0.19246951, 0.29214099, 0.4742015 ,\n",
       "       0.30353087, 0.24052755, 0.63504008, 0.32955807, 0.24892905,\n",
       "       0.22427474, 0.44130997, 0.45597103, 0.18184422, 0.33403514,\n",
       "       0.184994  , 0.24001653, 0.20768222, 0.16378627, 0.20998289,\n",
       "       0.24119657, 0.13225279]),\n",
       "       array([0.14561584, 0.37863233, 0.51098619, 0.25141014, 0.3703003 ,\n",
       "       0.87327295, 0.33597798, 0.37686325, 0.13652176, 0.50150901,\n",
       "       0.15167289, 0.28290064, 0.16636223, 0.32916873, 0.27255163,\n",
       "       0.23233438, 0.32037671, 0.58762463, 0.27633802, 0.12756829,\n",
       "       0.24191705, 0.23050542, 0.06678387, 0.21812946, 0.14054537,\n",
       "       0.35658973, 0.20023772, 0.22138398, 0.32428853, 0.41927711,\n",
       "       0.24199094, 0.19608475, 0.50430944, 0.75958078, 0.2943213 ,\n",
       "       0.21043278, 0.21111984, 0.14672849])], dtype=object)"
      ]
     },
     "execution_count": 55,
     "metadata": {},
     "output_type": "execute_result"
    }
   ],
   "source": [
    "def calculate_change_keypoints(names, flag, mode='right'):\n",
    "    # 촬영 방향\n",
    "    # 오른쪽에서 촬영(오른쪽 관절만 관여)\n",
    "    if mode == 'right' :\n",
    "        PART_NAMES = ['neck', 'rshoulder', 'relbow', 'rwrist', 'rhip', 'rknee', 'rankle']\n",
    "    \n",
    "\n",
    "    # 왼쪽에서 촬영(왼쪽 관절만 관여)\n",
    "    elif mode == 'left' :\n",
    "        PART_NAMES = ['neck', 'lshoulder', 'lelbow', 'lwrist', 'lhip', 'lknee', 'lankle']\n",
    "\n",
    "    # 앞 또는 뒤에서 촬영(모든 관절이 관여)\n",
    "    else :\n",
    "        PART_NAMES = ['neck',  'rshoulder', 'relbow', 'rwrist', 'rhip', 'rknee', 'rankle',\n",
    "                      'lshoulder', 'lelbow', 'lwrist', 'lhip', 'lknee', 'lankle']\n",
    "    \n",
    "    result = []\n",
    "    for filename in names:\n",
    "        output = []\n",
    "        x_array = []\n",
    "        y_array = []\n",
    "\n",
    "        #tmp_np = np.load('poses_compressed/squat/'+filename)\n",
    "\n",
    "        if flag == 0: # flag 0 이면 기존 training, test \n",
    "            ps = load_ps('poses_compressed/squat/'+filename)\n",
    "\n",
    "        # (!! 수정필요 - 새로운 파일 돌릴 수 있도록)\n",
    "        else: # 1 flag 이면 새로 만든 값 \n",
    "            ps = load_ps('poses_compressed/squat/'+filename)\n",
    "        \n",
    "        poses = ps.poses\n",
    "        \n",
    "        for pose in poses : \n",
    "            x = []\n",
    "            y = []\n",
    "            \n",
    "            scale, shift_x, shift_y = normalization(pose)\n",
    "\n",
    "            for part in PART_NAMES :\n",
    "                # if getattr(pose, part).x < 0 : continue\n",
    "                #print(part)\n",
    "                #print(getattr(pose, part).x * scale + shift_x, getattr(pose, part).y * scale + shift_y)\n",
    "                \n",
    "                #x.append(getattr(pose, part).x)\n",
    "                #y.append(getattr(pose, part).y)\n",
    "                \n",
    "                # with normalization\n",
    "                x.append(getattr(pose, part).x * scale + shift_x)\n",
    "                y.append(getattr(pose, part).y * scale + shift_y)\n",
    "                  \n",
    "            x_array.append(x)\n",
    "            y_array.append(y)\n",
    "            #plot_keypoints(x, y)\n",
    "            #break\n",
    "            \n",
    "        x_array = np.array(x_array)\n",
    "        y_array = np.array(y_array)\n",
    "\n",
    "        #print(x_array.shape)\n",
    "        #output = np.array(output)\n",
    "        #output = output.transpose(1, 0, 2)  \n",
    "      \n",
    "        output = cal_vector_change(x_array, y_array)\n",
    "\n",
    "        result.append(output)\n",
    " \n",
    "    # print(\"LEN\")\n",
    "    # for l in result : \n",
    "    #  print(len(l))\n",
    "    # print(\"END\")\n",
    "    result = np.array(result)\n",
    "    \n",
    "    print(result.shape)\n",
    "    # print(\"calculate\")\n",
    "    # print(result.shape)\n",
    "    return result\n",
    "\n",
    "print(X_train_names[0])\n",
    "#calculate_change_keypoints([X_train_names[0]], 0, 'right')\n",
    "calculate_change_keypoints(X_train_names, 0, 'right')"
   ]
  },
  {
   "cell_type": "code",
   "execution_count": 56,
   "metadata": {
    "executionInfo": {
     "elapsed": 22571,
     "status": "aborted",
     "timestamp": 1608391787532,
     "user": {
      "displayName": "임정선",
      "photoUrl": "",
      "userId": "07763586888403287668"
     },
     "user_tz": -540
    },
    "id": "k7DcPT4Tg2qc"
   },
   "outputs": [
    {
     "name": "stdout",
     "output_type": "stream",
     "text": [
      "squat_good_6.npy\n",
      "(8,)\n",
      "(1, 34)\n",
      "squat_good_8.npy\n",
      "(8,)\n",
      "(1, 50)\n",
      "squat_good_17.npy\n",
      "(8,)\n",
      "(1, 52)\n"
     ]
    },
    {
     "name": "stderr",
     "output_type": "stream",
     "text": [
      "/Users/imjungsun/.pyenv/versions/urop_env/lib/python3.6/site-packages/ipykernel_launcher.py:72: VisibleDeprecationWarning: Creating an ndarray from ragged nested sequences (which is a list-or-tuple of lists-or-tuples-or ndarrays with different lengths or shapes) is deprecated. If you meant to do this, you must specify 'dtype=object' when creating the ndarray\n"
     ]
    },
    {
     "name": "stdout",
     "output_type": "stream",
     "text": [
      "squat_good_12.npy\n",
      "(8,)\n",
      "(1, 49)\n",
      "squat_bad_7.npy\n",
      "(8,)\n",
      "(1, 43)\n",
      "squat_good_10.npy\n",
      "(8,)\n",
      "(1, 39)\n",
      "squat_bad_8.npy\n",
      "(8,)\n",
      "(1, 34)\n",
      "squat_good_15.npy\n",
      "(8,)\n",
      "(1, 46)\n"
     ]
    }
   ],
   "source": [
    "def KNN_with_keypoints(X_trains, X_test):\n",
    "    predictions = []\n",
    "    train_d_vectors = calculate_change_keypoints(X_train_names, 0)\n",
    "    test_d_vector   = calculate_change_keypoints([X_test], 1)\n",
    "    \n",
    "    good, bad = [[] for i in range(2)]\n",
    "\n",
    "    for idx, train_d_vector in enumerate(train_d_vectors): # X_test_names\n",
    "        # Store the average distance to good and bad training examples\n",
    "        #print(\"SHAPE\")\n",
    "        #print(len(train_d_vector)\n",
    "        #print(len(test_d_vector))\n",
    "        #print(train_d_vector)\n",
    "        #print(test_d_vector)\n",
    "        #test_d_vector = test_d_vector.reshape(-1, 1)\n",
    "        \n",
    "        dist = utils.DTWDistance(train_d_vector, test_d_vector[0])\n",
    "        \n",
    "        if y_train[idx]:\n",
    "            good.append(dist)\n",
    "        else:\n",
    "            bad.append(dist)\n",
    "              \n",
    "        # if len(good) == 0 : good = [0]\n",
    "        # if len(bad) == 0 : bad = [0]\n",
    "        \n",
    "    # 평가시 Train에 good, bad를 모두 넣어줘야함 \n",
    "    good_score = np.mean(good)\n",
    "    bad_score  = np.mean(bad)\n",
    "    \n",
    "    #print(good_score, bad_score)\n",
    "    \n",
    "    #print(good_score, bad_score)\n",
    "    # dist가 크면 유사도가 적다\n",
    "    # bad score가 크면 good\n",
    "    if good_score < bad_score:\n",
    "        return 1\n",
    "    else:\n",
    "        return 0\n",
    "    \n",
    "result = []\n",
    "for X_test_name in X_test_names :\n",
    "    print(X_test_name)\n",
    "    test_label = KNN_with_keypoints(X_train_names, X_test_name) # 기존 test data \n",
    "    #print(test_label)\n",
    "    \n",
    "    result.append([X_test_name, test_label])"
   ]
  },
  {
   "cell_type": "code",
   "execution_count": 57,
   "metadata": {
    "executionInfo": {
     "elapsed": 22568,
     "status": "aborted",
     "timestamp": 1608391787533,
     "user": {
      "displayName": "임정선",
      "photoUrl": "",
      "userId": "07763586888403287668"
     },
     "user_tz": -540
    },
    "id": "2-AZ-S-tg2qd"
   },
   "outputs": [
    {
     "name": "stdout",
     "output_type": "stream",
     "text": [
      "## TRAIN SET ##\n",
      "squat_bad_4.npy Bad\n",
      "squat_good_7.npy Good\n",
      "squat_good_13.npy Good\n",
      "squat_good_11.npy Good\n",
      "squat_good_9.npy Good\n",
      "squat_good_14.npy Good\n",
      "squat_good_16.npy Good\n",
      "squat_good_5.npy Good\n",
      "\n",
      "## TEST RESULT ##\n",
      "squat_good_6.npy Bad Wrong\n",
      "squat_good_8.npy Good Right\n",
      "squat_good_17.npy Good Right\n",
      "squat_good_12.npy Bad Wrong\n",
      "squat_bad_7.npy Bad Right\n",
      "squat_good_10.npy Good Right\n",
      "squat_bad_8.npy Bad Right\n",
      "squat_good_15.npy Good Right\n"
     ]
    }
   ],
   "source": [
    "print(\"## TRAIN SET ##\")\n",
    "for i in range(len(X_train_names)) : \n",
    "    print(X_train_names[i], end = \" \")\n",
    "    if y_train[i] == 1 :\n",
    "        print(\"Good\")\n",
    "    else :\n",
    "        print(\"Bad\")\n",
    "        \n",
    "        \n",
    "print(\"\\n## TEST RESULT ##\")\n",
    "for r in result : \n",
    "    ori_result = r[0].split(\"_\")[1]\n",
    "    \n",
    "    print(r[0], end = \" \")\n",
    "    if r[1] == 1 :\n",
    "        print(\"Good\", end = \" \")\n",
    "    else :\n",
    "        print(\"Bad\", end = \" \")\n",
    "\n",
    "    if ori_result == 'good' and r[1] == 1 : \n",
    "        print(\"Right\")  \n",
    "    \n",
    "    elif ori_result == 'bad' and r[1] == 0 : \n",
    "        print(\"Right\")\n",
    "        \n",
    "    else : print(\"Wrong\")"
   ]
  },
  {
   "cell_type": "code",
   "execution_count": null,
   "metadata": {
    "executionInfo": {
     "elapsed": 22566,
     "status": "aborted",
     "timestamp": 1608391787534,
     "user": {
      "displayName": "임정선",
      "photoUrl": "",
      "userId": "07763586888403287668"
     },
     "user_tz": -540
    },
    "id": "f_n0vxbSg2qd"
   },
   "outputs": [],
   "source": []
  },
  {
   "cell_type": "code",
   "execution_count": null,
   "metadata": {
    "executionInfo": {
     "elapsed": 22563,
     "status": "aborted",
     "timestamp": 1608391787535,
     "user": {
      "displayName": "임정선",
      "photoUrl": "",
      "userId": "07763586888403287668"
     },
     "user_tz": -540
    },
    "id": "pmTZr47Qg2qd"
   },
   "outputs": [],
   "source": []
  }
 ],
 "metadata": {
  "colab": {
   "collapsed_sections": [],
   "name": "KNN_DTW_All_Keypoints.ipynb",
   "provenance": []
  },
  "kernelspec": {
   "display_name": "Python 3",
   "language": "python",
   "name": "python3"
  },
  "language_info": {
   "codemirror_mode": {
    "name": "ipython",
    "version": 3
   },
   "file_extension": ".py",
   "mimetype": "text/x-python",
   "name": "python",
   "nbconvert_exporter": "python",
   "pygments_lexer": "ipython3",
   "version": "3.6.2"
  }
 },
 "nbformat": 4,
 "nbformat_minor": 1
}
