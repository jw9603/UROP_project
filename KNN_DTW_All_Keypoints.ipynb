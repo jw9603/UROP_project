{
 "cells": [
  {
   "cell_type": "code",
   "execution_count": 103,
   "metadata": {
    "colab": {
     "base_uri": "https://localhost:8080/"
    },
    "executionInfo": {
     "elapsed": 668,
     "status": "ok",
     "timestamp": 1608391765601,
     "user": {
      "displayName": "임정선",
      "photoUrl": "",
      "userId": "07763586888403287668"
     },
     "user_tz": -540
    },
    "id": "T-3QV-1zg8F-",
    "outputId": "6a397ab4-9116-48cb-ad43-871e6627e52a"
   },
   "outputs": [
    {
     "ename": "ModuleNotFoundError",
     "evalue": "No module named 'google.colab'",
     "output_type": "error",
     "traceback": [
      "\u001b[0;31m---------------------------------------------------------------------------\u001b[0m",
      "\u001b[0;31mModuleNotFoundError\u001b[0m                       Traceback (most recent call last)",
      "\u001b[0;32m<ipython-input-103-96c9a390d336>\u001b[0m in \u001b[0;36m<module>\u001b[0;34m\u001b[0m\n\u001b[0;32m----> 1\u001b[0;31m \u001b[0;32mfrom\u001b[0m \u001b[0mgoogle\u001b[0m\u001b[0;34m.\u001b[0m\u001b[0mcolab\u001b[0m \u001b[0;32mimport\u001b[0m \u001b[0mdrive\u001b[0m\u001b[0;34m\u001b[0m\u001b[0m\n\u001b[0m\u001b[1;32m      2\u001b[0m \u001b[0mdrive\u001b[0m\u001b[0;34m.\u001b[0m\u001b[0mmount\u001b[0m\u001b[0;34m(\u001b[0m\u001b[0;34m\"/content/drive\"\u001b[0m\u001b[0;34m)\u001b[0m\u001b[0;34m\u001b[0m\u001b[0m\n\u001b[1;32m      3\u001b[0m \u001b[0;34m\u001b[0m\u001b[0m\n\u001b[1;32m      4\u001b[0m \u001b[0mget_ipython\u001b[0m\u001b[0;34m(\u001b[0m\u001b[0;34m)\u001b[0m\u001b[0;34m.\u001b[0m\u001b[0mrun_line_magic\u001b[0m\u001b[0;34m(\u001b[0m\u001b[0;34m'cd'\u001b[0m\u001b[0;34m,\u001b[0m \u001b[0;34m'/content/drive/My\\\\ Drive/UROP/project/UROP_project/'\u001b[0m\u001b[0;34m)\u001b[0m\u001b[0;34m\u001b[0m\u001b[0m\n",
      "\u001b[0;31mModuleNotFoundError\u001b[0m: No module named 'google.colab'"
     ]
    }
   ],
   "source": [
    "from google.colab import drive\n",
    "drive.mount(\"/content/drive\")\n",
    "\n",
    "%cd /content/drive/My\\ Drive/UROP/project/UROP_project/"
   ]
  },
  {
   "cell_type": "code",
   "execution_count": 104,
   "metadata": {
    "executionInfo": {
     "elapsed": 941,
     "status": "ok",
     "timestamp": 1608391765879,
     "user": {
      "displayName": "임정선",
      "photoUrl": "",
      "userId": "07763586888403287668"
     },
     "user_tz": -540
    },
    "id": "NUe2L-0pg2qV"
   },
   "outputs": [],
   "source": [
    "import numpy as np\n",
    "import math\n",
    "import glob\n",
    "import utils\n",
    "\n",
    "from parse import load_ps\n",
    "from pprint import pprint\n",
    "from scipy.signal import medfilt\n",
    "from sklearn.model_selection import train_test_split\n",
    "from sklearn.neighbors import KNeighborsClassifier\n",
    "from sklearn.neighbors import DistanceMetric\n",
    "from sklearn.metrics import classification_report"
   ]
  },
  {
   "cell_type": "code",
   "execution_count": 105,
   "metadata": {
    "colab": {
     "base_uri": "https://localhost:8080/"
    },
    "executionInfo": {
     "elapsed": 936,
     "status": "ok",
     "timestamp": 1608391765879,
     "user": {
      "displayName": "임정선",
      "photoUrl": "",
      "userId": "07763586888403287668"
     },
     "user_tz": -540
    },
    "id": "hrnwPvp6g2qa",
    "outputId": "9977f1d8-a081-4c56-e297-45d4cecbdd88"
   },
   "outputs": [
    {
     "name": "stdout",
     "output_type": "stream",
     "text": [
      "array(['squat_good_7.npy', 'squat_bad_8.npy', 'squat_bad_7.npy',\n",
      "       'squat_good_5.npy', 'squat_good_1.npy', 'squat_good_4.npy',\n",
      "       'squat_bad_9.npy', 'squat_good_3.npy'], dtype='<U17')\n",
      "array([1, 0, 0, 1, 1, 1, 0, 1])\n",
      "array(['squat_good_2.npy', 'squat_bad_6.npy', 'squat_good_6.npy'],\n",
      "      dtype='<U17')\n",
      "array([1, 0, 1])\n"
     ]
    }
   ],
   "source": [
    "files = utils.files_in_order('poses_compressed/squat')\n",
    "\n",
    "X_train_names, X_test_names = train_test_split(files[5:16], test_size=0.2, random_state=42)\n",
    "y_train = utils.get_labels(X_train_names)\n",
    "y_test = utils.get_labels(X_test_names)\n",
    "\n",
    "pprint(X_train_names)\n",
    "pprint(y_train)\n",
    "pprint(X_test_names)\n",
    "pprint(y_test)"
   ]
  },
  {
   "cell_type": "code",
   "execution_count": 116,
   "metadata": {
    "executionInfo": {
     "elapsed": 780,
     "status": "ok",
     "timestamp": 1608392324122,
     "user": {
      "displayName": "임정선",
      "photoUrl": "",
      "userId": "07763586888403287668"
     },
     "user_tz": -540
    },
    "id": "pjiuQhjLhwpG"
   },
   "outputs": [],
   "source": [
    "# scaling 후에 정해진 위치로 shift\n",
    "def normalization(pose) :\n",
    "    # lenght normalization\n",
    "    # torso 길이가 1이 되도록 scale param을 구하고 resize\n",
    "    fixed_torso_legnth = 1 # tosro 길이를 1로 설정\n",
    "    \n",
    "    torso_lengths = np.array([dist(pose.neck, pose.lhip)] +\n",
    "                                 [dist(pose.neck, pose.rhip)])\n",
    "    mean_torso = np.mean(torso_lengths)\n",
    "    scale = fixed_torso_legnth / mean_torso\n",
    "    \n",
    "    #print(\"\\n\\nScale\")\n",
    "    #print(scale)\n",
    "    \n",
    "    # shift\n",
    "    # 2, 2로 맞추기\n",
    "    set_x, set_y = 2, 2\n",
    "    x, y = pose.neck.x*scale, pose.neck.y*scale\n",
    "    \n",
    "    shift_x = ((set_x-x)*(set_x-x))**0.5\n",
    "    shift_y = ((set_y-y)*(set_y-y))**0.5\n",
    "    \n",
    "    if set_x < x : \n",
    "        shift_x = -shift_x\n",
    "    if set_y < y : \n",
    "        shift_y = -shift_y\n",
    "    \n",
    "    #print(\"SHIFT\")\n",
    "    #print(shift_x,shift_y)\n",
    "    #print(x + shift_x, y + shift_y)\n",
    "\n",
    "    return scale, shift_x, shift_y\n",
    "\n",
    "def dist(part1, part2):\n",
    "    return np.sqrt(np.square(part1.x - part2.x) + np.square(part1.y - part2.y))\n"
   ]
  },
  {
   "cell_type": "code",
   "execution_count": 117,
   "metadata": {
    "executionInfo": {
     "elapsed": 736,
     "status": "ok",
     "timestamp": 1608392311142,
     "user": {
      "displayName": "임정선",
      "photoUrl": "",
      "userId": "07763586888403287668"
     },
     "user_tz": -540
    },
    "id": "-KyTQcdKg2qc"
   },
   "outputs": [],
   "source": [
    "import matplotlib.pyplot as plt\n",
    "\n",
    "def plot_keypoints(x, y) :\n",
    "    plt.xlim([0,5])\n",
    "    plt.ylim([0,5])\n",
    "    plt.scatter(x, y)\n",
    "    plt.show()\n",
    "\n",
    "    plt.rcdefaults() \n",
    "    "
   ]
  },
  {
   "cell_type": "code",
   "execution_count": 118,
   "metadata": {},
   "outputs": [],
   "source": [
    "def cal_vector_change(x_array, y_array) : \n",
    "    result = np.array([])\n",
    "    \n",
    "    for t in range(1, len(x_array)) :\n",
    "        tmp = []\n",
    "        v = np.square(x_array[t-1] - x_array[t])\n",
    "        w = np.square(y_array[t-1] - y_array[t])\n",
    "\n",
    "        result = np.append(result, np.sum(np.sqrt(v+w)))\n",
    " \n",
    "    #print(result.shape)\n",
    "    return result"
   ]
  },
  {
   "cell_type": "code",
   "execution_count": 119,
   "metadata": {
    "colab": {
     "base_uri": "https://localhost:8080/",
     "height": 1000
    },
    "executionInfo": {
     "elapsed": 5350,
     "status": "error",
     "timestamp": 1608392411644,
     "user": {
      "displayName": "임정선",
      "photoUrl": "",
      "userId": "07763586888403287668"
     },
     "user_tz": -540
    },
    "id": "jxiWj0hog2qc",
    "outputId": "308746a3-3887-4e8d-d85a-c26eba10d011"
   },
   "outputs": [
    {
     "name": "stdout",
     "output_type": "stream",
     "text": [
      "squat_good_7.npy\n",
      "(49, 7)\n"
     ]
    },
    {
     "data": {
      "text/plain": [
       "array([[0.25626787, 0.29660416, 0.26835613, 0.20754207, 0.11111432,\n",
       "        0.52031973, 0.36614922, 0.75049154, 0.3681233 , 0.57100982,\n",
       "        0.30102785, 0.26799525, 0.15538296, 0.42836036, 0.19944582,\n",
       "        0.32131047, 0.10271608, 0.36794502, 0.40651869, 0.26924676,\n",
       "        0.18470168, 0.36263136, 0.09118946, 0.08535037, 0.31594329,\n",
       "        0.22921109, 0.18062867, 0.2806716 , 0.19331895, 0.34991389,\n",
       "        0.34737182, 0.20885604, 0.26396624, 0.54433309, 0.30970876,\n",
       "        0.35603953, 0.15353657, 0.81690241, 0.15965961, 0.2092375 ,\n",
       "        0.18263194, 0.24328682, 0.23860944, 0.17337322, 0.24011458,\n",
       "        0.24257443, 0.17237461, 0.26299327]])"
      ]
     },
     "execution_count": 119,
     "metadata": {},
     "output_type": "execute_result"
    }
   ],
   "source": [
    "def calculate_change_keypoints(names, flag, mode='right'):\n",
    "    # 촬영 방향\n",
    "    # 오른쪽에서 촬영(오른쪽 관절만 관여)\n",
    "    if mode == 'right' :\n",
    "        PART_NAMES = ['neck', 'rshoulder', 'relbow', 'rwrist', 'rhip', 'rknee', 'rankle']\n",
    "    \n",
    "\n",
    "    # 왼쪽에서 촬영(왼쪽 관절만 관여)\n",
    "    elif mode == 'left' :\n",
    "        PART_NAMES = ['neck', 'lshoulder', 'lelbow', 'lwrist', 'lhip', 'lknee', 'lankle']\n",
    "\n",
    "    # 앞 또는 뒤에서 촬영(모든 관절이 관여)\n",
    "    else :\n",
    "        PART_NAMES = ['neck',  'rshoulder', 'relbow', 'rwrist', 'rhip', 'rknee', 'rankle',\n",
    "                      'lshoulder', 'lelbow', 'lwrist', 'lhip', 'lknee', 'lankle']\n",
    "    \n",
    "    result = []\n",
    "    for filename in names:\n",
    "        output = []\n",
    "        x_array = []\n",
    "        y_array = []\n",
    "\n",
    "        #tmp_np = np.load('poses_compressed/squat/'+filename)\n",
    "\n",
    "        if flag == 0: # flag 0 이면 기존 training, test \n",
    "            ps = load_ps('poses_compressed/squat/'+filename)\n",
    "\n",
    "        # (!! 수정필요 - 새로운 파일 돌릴 수 있도록)\n",
    "        else: # 1 flag 이면 새로 만든 값 \n",
    "            ps = load_ps('poses_compressed/squat/'+filename)\n",
    "        \n",
    "        poses = ps.poses\n",
    "        \n",
    "        for pose in poses : \n",
    "            x = []\n",
    "            y = []\n",
    "            \n",
    "            scale, shift_x, shift_y = normalization(pose)\n",
    "\n",
    "            for part in PART_NAMES :\n",
    "                # if getattr(pose, part).x < 0 : continue\n",
    "                #print(part)\n",
    "                #print(getattr(pose, part).x * scale + shift_x, getattr(pose, part).y * scale + shift_y)\n",
    "                x.append(getattr(pose, part).x * scale + shift_x)\n",
    "                y.append(getattr(pose, part).y * scale + shift_y)\n",
    "                  \n",
    "            x_array.append(x)\n",
    "            y_array.append(y)\n",
    "            #plot_keypoints(x, y)\n",
    "            #break\n",
    "            \n",
    "        x_array = np.array(x_array)\n",
    "        y_array = np.array(y_array)\n",
    "\n",
    "        print(x_array.shape)\n",
    "        #output = np.array(output)\n",
    "        #output = output.transpose(1, 0, 2)  \n",
    "      \n",
    "        output = cal_vector_change(x_array, y_array)\n",
    "\n",
    "        result.append(output)\n",
    " \n",
    "    # print(\"LEN\")\n",
    "    # for l in result : \n",
    "    #  print(len(l))\n",
    "    # print(\"END\")\n",
    "    result = np.array(result)\n",
    "\n",
    "    # print(\"calculate\")\n",
    "    # print(result.shape)\n",
    "    return result\n",
    "\n",
    "print(X_train_names[0])\n",
    "calculate_change_keypoints([X_train_names[0]], 0, 'right')\n",
    "#calculate_change_keypoints(X_train_names, 0, 'right')"
   ]
  },
  {
   "cell_type": "code",
   "execution_count": 120,
   "metadata": {
    "executionInfo": {
     "elapsed": 22571,
     "status": "aborted",
     "timestamp": 1608391787532,
     "user": {
      "displayName": "임정선",
      "photoUrl": "",
      "userId": "07763586888403287668"
     },
     "user_tz": -540
    },
    "id": "k7DcPT4Tg2qc"
   },
   "outputs": [
    {
     "name": "stdout",
     "output_type": "stream",
     "text": [
      "squat_good_2.npy (49, 7)\n",
      "(35, 7)\n",
      "(44, 7)\n",
      "(39, 7)\n",
      "(139, 7)\n",
      "(62, 7)\n",
      "(34, 7)\n",
      "(67, 7)\n",
      "(99, 7)\n",
      "63.061816019178956 41.91114054474744\n",
      "0\n",
      "squat_bad_6.npy (49, 7)\n",
      "(35, 7)\n"
     ]
    },
    {
     "name": "stderr",
     "output_type": "stream",
     "text": [
      "/Users/imjungsun/.pyenv/versions/urop_env/lib/python3.6/site-packages/ipykernel_launcher.py:67: VisibleDeprecationWarning: Creating an ndarray from ragged nested sequences (which is a list-or-tuple of lists-or-tuples-or ndarrays with different lengths or shapes) is deprecated. If you meant to do this, you must specify 'dtype=object' when creating the ndarray\n"
     ]
    },
    {
     "name": "stdout",
     "output_type": "stream",
     "text": [
      "(44, 7)\n",
      "(39, 7)\n",
      "(139, 7)\n",
      "(62, 7)\n",
      "(34, 7)\n",
      "(67, 7)\n",
      "(36, 7)\n",
      "49.14088922915378 0.890624265638139\n",
      "0\n",
      "squat_good_6.npy (49, 7)\n",
      "(35, 7)\n",
      "(44, 7)\n",
      "(39, 7)\n",
      "(139, 7)\n",
      "(62, 7)\n",
      "(34, 7)\n",
      "(67, 7)\n",
      "(35, 7)\n",
      "48.49739800597456 1.0650758608737936\n",
      "0\n"
     ]
    }
   ],
   "source": [
    "def KNN_with_keypoints(X_trains, X_test):\n",
    "    predictions = []\n",
    "    train_d_vectors = calculate_change_keypoints(X_train_names, 0)\n",
    "    test_d_vector   = calculate_change_keypoints([X_test], 1)\n",
    "    \n",
    "    good, bad = [[] for i in range(2)]\n",
    "\n",
    "    for idx, train_d_vector in enumerate(train_d_vectors): # X_test_names\n",
    "        # Store the average distance to good and bad training examples\n",
    "        #print(\"SHAPE\")\n",
    "        #print(len(train_d_vector)\n",
    "        #print(len(test_d_vector))\n",
    "        #print(train_d_vector)\n",
    "        #print(test_d_vector)\n",
    "        #test_d_vector = test_d_vector.reshape(-1, 1)\n",
    "        \n",
    "        dist = utils.DTWDistance(train_d_vector, test_d_vector[0])\n",
    "        \n",
    "        if y_train[idx]:\n",
    "            good.append(dist)\n",
    "        else:\n",
    "            bad.append(dist)\n",
    "              \n",
    "        # if len(good) == 0 : good = [0]\n",
    "        # if len(bad) == 0 : bad = [0]\n",
    "        \n",
    "    # 평가시 Train에 good, bad를 모두 넣어줘야함 \n",
    "    good_score = np.mean(good)\n",
    "    bad_score  = np.mean(bad)\n",
    "    \n",
    "    print(good_score, bad_score)\n",
    "    \n",
    "    #print(good_score, bad_score)\n",
    "    # dist가 크면 덜 가깝다 -> bad score가 크면 good에 가깝다\n",
    "    if good_score < bad_score:\n",
    "        return 1\n",
    "    else:\n",
    "        return 0\n",
    "    \n",
    "result = []\n",
    "for X_test_name in X_test_names :\n",
    "    print(X_test_name, end=\" \")\n",
    "    test_label = KNN_with_keypoints(X_test_names, X_test_name) # 기존 test data \n",
    "    print(test_label)\n",
    "    \n",
    "    result.append([X_test_name, test_label])"
   ]
  },
  {
   "cell_type": "code",
   "execution_count": 121,
   "metadata": {
    "executionInfo": {
     "elapsed": 22568,
     "status": "aborted",
     "timestamp": 1608391787533,
     "user": {
      "displayName": "임정선",
      "photoUrl": "",
      "userId": "07763586888403287668"
     },
     "user_tz": -540
    },
    "id": "2-AZ-S-tg2qd"
   },
   "outputs": [
    {
     "name": "stdout",
     "output_type": "stream",
     "text": [
      "## TRAIN SET ##\n",
      "squat_good_7.npy Good\n",
      "squat_bad_8.npy Bad\n",
      "squat_bad_7.npy Bad\n",
      "squat_good_5.npy Good\n",
      "squat_good_1.npy Good\n",
      "squat_good_4.npy Good\n",
      "squat_bad_9.npy Bad\n",
      "squat_good_3.npy Good\n",
      "\n",
      "## TEST RESULT ##\n",
      "squat_good_2.npy Bad Wrong\n",
      "squat_bad_6.npy Bad Right\n",
      "squat_good_6.npy Bad Wrong\n"
     ]
    }
   ],
   "source": [
    "print(\"## TRAIN SET ##\")\n",
    "for i in range(len(X_train_names)) : \n",
    "    print(X_train_names[i], end = \" \")\n",
    "    if y_train[i] == 1 :\n",
    "        print(\"Good\")\n",
    "    else :\n",
    "        print(\"Bad\")\n",
    "        \n",
    "        \n",
    "print(\"\\n## TEST RESULT ##\")\n",
    "for r in result : \n",
    "    ori_result = r[0].split(\"_\")[1]\n",
    "    \n",
    "    print(r[0], end = \" \")\n",
    "    if r[1] == 1 :\n",
    "        print(\"Good\", end = \" \")\n",
    "    else :\n",
    "        print(\"Bad\", end = \" \")\n",
    "\n",
    "    if ori_result == 'good' and r[1] == 1 : \n",
    "        print(\"Right\")  \n",
    "    \n",
    "    elif ori_result == 'bad' and r[1] == 0 : \n",
    "        print(\"Right\")\n",
    "        \n",
    "    else : print(\"Wrong\")"
   ]
  },
  {
   "cell_type": "code",
   "execution_count": null,
   "metadata": {
    "executionInfo": {
     "elapsed": 22566,
     "status": "aborted",
     "timestamp": 1608391787534,
     "user": {
      "displayName": "임정선",
      "photoUrl": "",
      "userId": "07763586888403287668"
     },
     "user_tz": -540
    },
    "id": "f_n0vxbSg2qd"
   },
   "outputs": [],
   "source": []
  },
  {
   "cell_type": "code",
   "execution_count": null,
   "metadata": {
    "executionInfo": {
     "elapsed": 22563,
     "status": "aborted",
     "timestamp": 1608391787535,
     "user": {
      "displayName": "임정선",
      "photoUrl": "",
      "userId": "07763586888403287668"
     },
     "user_tz": -540
    },
    "id": "pmTZr47Qg2qd"
   },
   "outputs": [],
   "source": []
  }
 ],
 "metadata": {
  "colab": {
   "collapsed_sections": [],
   "name": "KNN_DTW_All_Keypoints.ipynb",
   "provenance": []
  },
  "kernelspec": {
   "display_name": "Python 3",
   "language": "python",
   "name": "python3"
  },
  "language_info": {
   "codemirror_mode": {
    "name": "ipython",
    "version": 3
   },
   "file_extension": ".py",
   "mimetype": "text/x-python",
   "name": "python",
   "nbconvert_exporter": "python",
   "pygments_lexer": "ipython3",
   "version": "3.6.2"
  }
 },
 "nbformat": 4,
 "nbformat_minor": 1
}
